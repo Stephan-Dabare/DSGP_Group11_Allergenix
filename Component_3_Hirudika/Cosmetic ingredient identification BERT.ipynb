{
  "nbformat": 4,
  "nbformat_minor": 0,
  "metadata": {
    "colab": {
      "provenance": [],
      "gpuType": "T4"
    },
    "kernelspec": {
      "name": "python3",
      "display_name": "Python 3"
    },
    "language_info": {
      "name": "python"
    },
    "accelerator": "GPU"
  },
  "cells": [
    {
      "cell_type": "code",
      "source": [
        "import pandas as pd"
      ],
      "metadata": {
        "id": "m0EcxzMHEoZX"
      },
      "execution_count": 1,
      "outputs": []
    },
    {
      "cell_type": "code",
      "source": [
        "cosmetic = pd.read_csv(\"/content/cosmetics.csv\")\n",
        "food = pd.read_csv(\"/content/ingredients v1.csv\")"
      ],
      "metadata": {
        "id": "EvCJlglREpL-"
      },
      "execution_count": 2,
      "outputs": []
    },
    {
      "cell_type": "code",
      "source": [
        "cosmetic_ingredients = cosmetic[\"Ingredients\"]\n",
        "food_ingredients = food[\"features.value\"]"
      ],
      "metadata": {
        "id": "Bp5fd9LvGKKS"
      },
      "execution_count": 3,
      "outputs": []
    },
    {
      "cell_type": "code",
      "source": [
        "cosmetic_ingredients"
      ],
      "metadata": {
        "colab": {
          "base_uri": "https://localhost:8080/",
          "height": 458
        },
        "id": "iZKdvyWz7kgD",
        "outputId": "5fad98f7-5ad8-4f70-a9d7-99f593f758ea"
      },
      "execution_count": 4,
      "outputs": [
        {
          "output_type": "execute_result",
          "data": {
            "text/plain": [
              "0       Algae (Seaweed) Extract, Mineral Oil, Petrolat...\n",
              "1       Galactomyces Ferment Filtrate (Pitera), Butyle...\n",
              "2       Water, Dicaprylyl Carbonate, Glycerin, Ceteary...\n",
              "3       Algae (Seaweed) Extract, Cyclopentasiloxane, P...\n",
              "4       Water, Snail Secretion Filtrate, Phenyl Trimet...\n",
              "                              ...                        \n",
              "1467    Water, Alcohol Denat., Potassium Cetyl Phospha...\n",
              "1468    Water, Isododecane, Dimethicone, Butyloctyl Sa...\n",
              "1469    Water, Dihydroxyacetone, Glycerin, Sclerocarya...\n",
              "1470    Water, Dihydroxyacetone, Propylene Glycol, PPG...\n",
              "1471                        Visit the DERMAFLASH boutique\n",
              "Name: Ingredients, Length: 1472, dtype: object"
            ],
            "text/html": [
              "<div>\n",
              "<style scoped>\n",
              "    .dataframe tbody tr th:only-of-type {\n",
              "        vertical-align: middle;\n",
              "    }\n",
              "\n",
              "    .dataframe tbody tr th {\n",
              "        vertical-align: top;\n",
              "    }\n",
              "\n",
              "    .dataframe thead th {\n",
              "        text-align: right;\n",
              "    }\n",
              "</style>\n",
              "<table border=\"1\" class=\"dataframe\">\n",
              "  <thead>\n",
              "    <tr style=\"text-align: right;\">\n",
              "      <th></th>\n",
              "      <th>Ingredients</th>\n",
              "    </tr>\n",
              "  </thead>\n",
              "  <tbody>\n",
              "    <tr>\n",
              "      <th>0</th>\n",
              "      <td>Algae (Seaweed) Extract, Mineral Oil, Petrolat...</td>\n",
              "    </tr>\n",
              "    <tr>\n",
              "      <th>1</th>\n",
              "      <td>Galactomyces Ferment Filtrate (Pitera), Butyle...</td>\n",
              "    </tr>\n",
              "    <tr>\n",
              "      <th>2</th>\n",
              "      <td>Water, Dicaprylyl Carbonate, Glycerin, Ceteary...</td>\n",
              "    </tr>\n",
              "    <tr>\n",
              "      <th>3</th>\n",
              "      <td>Algae (Seaweed) Extract, Cyclopentasiloxane, P...</td>\n",
              "    </tr>\n",
              "    <tr>\n",
              "      <th>4</th>\n",
              "      <td>Water, Snail Secretion Filtrate, Phenyl Trimet...</td>\n",
              "    </tr>\n",
              "    <tr>\n",
              "      <th>...</th>\n",
              "      <td>...</td>\n",
              "    </tr>\n",
              "    <tr>\n",
              "      <th>1467</th>\n",
              "      <td>Water, Alcohol Denat., Potassium Cetyl Phospha...</td>\n",
              "    </tr>\n",
              "    <tr>\n",
              "      <th>1468</th>\n",
              "      <td>Water, Isododecane, Dimethicone, Butyloctyl Sa...</td>\n",
              "    </tr>\n",
              "    <tr>\n",
              "      <th>1469</th>\n",
              "      <td>Water, Dihydroxyacetone, Glycerin, Sclerocarya...</td>\n",
              "    </tr>\n",
              "    <tr>\n",
              "      <th>1470</th>\n",
              "      <td>Water, Dihydroxyacetone, Propylene Glycol, PPG...</td>\n",
              "    </tr>\n",
              "    <tr>\n",
              "      <th>1471</th>\n",
              "      <td>Visit the DERMAFLASH boutique</td>\n",
              "    </tr>\n",
              "  </tbody>\n",
              "</table>\n",
              "<p>1472 rows × 1 columns</p>\n",
              "</div><br><label><b>dtype:</b> object</label>"
            ]
          },
          "metadata": {},
          "execution_count": 4
        }
      ]
    },
    {
      "cell_type": "code",
      "source": [
        "food_ingredients"
      ],
      "metadata": {
        "colab": {
          "base_uri": "https://localhost:8080/",
          "height": 458
        },
        "id": "FJjlwf6U78Oa",
        "outputId": "c15b5f37-40cb-4899-f367-b28644a7ac5f"
      },
      "execution_count": 5,
      "outputs": [
        {
          "output_type": "execute_result",
          "data": {
            "text/plain": [
              "0             Dried Prunes,Water,Corn Syrup,Sugar,Pectin.\n",
              "1       Salt,Sugar,Molasses (Refinery Syrup, Molasses,...\n",
              "2       Salt, Yellow 5 Lake, Tricalcium Phosphate And ...\n",
              "3       Mechanically hulled seasame seeds.Allergy Info...\n",
              "4                                                   FALSE\n",
              "                              ...                        \n",
              "3981    Unbleached Wheat Flour,Sugar,Palm Fruit Oil,Gr...\n",
              "3982    Wheat Flour,Niacin,Iron,Thiamin Mononitrate,Ri...\n",
              "3983    Enriched Wheat Flour,Semisweet Chocolate Chips...\n",
              "3984    Sodium Bicarbonate,Calcium Phosphate,Niacin,Th...\n",
              "3985                                                  NaN\n",
              "Name: features.value, Length: 3986, dtype: object"
            ],
            "text/html": [
              "<div>\n",
              "<style scoped>\n",
              "    .dataframe tbody tr th:only-of-type {\n",
              "        vertical-align: middle;\n",
              "    }\n",
              "\n",
              "    .dataframe tbody tr th {\n",
              "        vertical-align: top;\n",
              "    }\n",
              "\n",
              "    .dataframe thead th {\n",
              "        text-align: right;\n",
              "    }\n",
              "</style>\n",
              "<table border=\"1\" class=\"dataframe\">\n",
              "  <thead>\n",
              "    <tr style=\"text-align: right;\">\n",
              "      <th></th>\n",
              "      <th>features.value</th>\n",
              "    </tr>\n",
              "  </thead>\n",
              "  <tbody>\n",
              "    <tr>\n",
              "      <th>0</th>\n",
              "      <td>Dried Prunes,Water,Corn Syrup,Sugar,Pectin.</td>\n",
              "    </tr>\n",
              "    <tr>\n",
              "      <th>1</th>\n",
              "      <td>Salt,Sugar,Molasses (Refinery Syrup, Molasses,...</td>\n",
              "    </tr>\n",
              "    <tr>\n",
              "      <th>2</th>\n",
              "      <td>Salt, Yellow 5 Lake, Tricalcium Phosphate And ...</td>\n",
              "    </tr>\n",
              "    <tr>\n",
              "      <th>3</th>\n",
              "      <td>Mechanically hulled seasame seeds.Allergy Info...</td>\n",
              "    </tr>\n",
              "    <tr>\n",
              "      <th>4</th>\n",
              "      <td>FALSE</td>\n",
              "    </tr>\n",
              "    <tr>\n",
              "      <th>...</th>\n",
              "      <td>...</td>\n",
              "    </tr>\n",
              "    <tr>\n",
              "      <th>3981</th>\n",
              "      <td>Unbleached Wheat Flour,Sugar,Palm Fruit Oil,Gr...</td>\n",
              "    </tr>\n",
              "    <tr>\n",
              "      <th>3982</th>\n",
              "      <td>Wheat Flour,Niacin,Iron,Thiamin Mononitrate,Ri...</td>\n",
              "    </tr>\n",
              "    <tr>\n",
              "      <th>3983</th>\n",
              "      <td>Enriched Wheat Flour,Semisweet Chocolate Chips...</td>\n",
              "    </tr>\n",
              "    <tr>\n",
              "      <th>3984</th>\n",
              "      <td>Sodium Bicarbonate,Calcium Phosphate,Niacin,Th...</td>\n",
              "    </tr>\n",
              "    <tr>\n",
              "      <th>3985</th>\n",
              "      <td>NaN</td>\n",
              "    </tr>\n",
              "  </tbody>\n",
              "</table>\n",
              "<p>3986 rows × 1 columns</p>\n",
              "</div><br><label><b>dtype:</b> object</label>"
            ]
          },
          "metadata": {},
          "execution_count": 5
        }
      ]
    },
    {
      "cell_type": "code",
      "source": [
        "cosmetic_ingredients = cosmetic_ingredients.str.split(',')"
      ],
      "metadata": {
        "id": "om37Wiyc8GqZ"
      },
      "execution_count": 6,
      "outputs": []
    },
    {
      "cell_type": "code",
      "source": [
        "cosmetic_ingredients"
      ],
      "metadata": {
        "colab": {
          "base_uri": "https://localhost:8080/",
          "height": 458
        },
        "id": "I_KQ5AEr8z5F",
        "outputId": "06c9c333-7898-4280-9062-2ff1d6be55b9"
      },
      "execution_count": 7,
      "outputs": [
        {
          "output_type": "execute_result",
          "data": {
            "text/plain": [
              "0       [Algae (Seaweed) Extract,  Mineral Oil,  Petro...\n",
              "1       [Galactomyces Ferment Filtrate (Pitera),  Buty...\n",
              "2       [Water,  Dicaprylyl Carbonate,  Glycerin,  Cet...\n",
              "3       [Algae (Seaweed) Extract,  Cyclopentasiloxane,...\n",
              "4       [Water,  Snail Secretion Filtrate,  Phenyl Tri...\n",
              "                              ...                        \n",
              "1467    [Water,  Alcohol Denat.,  Potassium Cetyl Phos...\n",
              "1468    [Water,  Isododecane,  Dimethicone,  Butylocty...\n",
              "1469    [Water,  Dihydroxyacetone,  Glycerin,  Scleroc...\n",
              "1470    [Water,  Dihydroxyacetone,  Propylene Glycol, ...\n",
              "1471                      [Visit the DERMAFLASH boutique]\n",
              "Name: Ingredients, Length: 1472, dtype: object"
            ],
            "text/html": [
              "<div>\n",
              "<style scoped>\n",
              "    .dataframe tbody tr th:only-of-type {\n",
              "        vertical-align: middle;\n",
              "    }\n",
              "\n",
              "    .dataframe tbody tr th {\n",
              "        vertical-align: top;\n",
              "    }\n",
              "\n",
              "    .dataframe thead th {\n",
              "        text-align: right;\n",
              "    }\n",
              "</style>\n",
              "<table border=\"1\" class=\"dataframe\">\n",
              "  <thead>\n",
              "    <tr style=\"text-align: right;\">\n",
              "      <th></th>\n",
              "      <th>Ingredients</th>\n",
              "    </tr>\n",
              "  </thead>\n",
              "  <tbody>\n",
              "    <tr>\n",
              "      <th>0</th>\n",
              "      <td>[Algae (Seaweed) Extract,  Mineral Oil,  Petro...</td>\n",
              "    </tr>\n",
              "    <tr>\n",
              "      <th>1</th>\n",
              "      <td>[Galactomyces Ferment Filtrate (Pitera),  Buty...</td>\n",
              "    </tr>\n",
              "    <tr>\n",
              "      <th>2</th>\n",
              "      <td>[Water,  Dicaprylyl Carbonate,  Glycerin,  Cet...</td>\n",
              "    </tr>\n",
              "    <tr>\n",
              "      <th>3</th>\n",
              "      <td>[Algae (Seaweed) Extract,  Cyclopentasiloxane,...</td>\n",
              "    </tr>\n",
              "    <tr>\n",
              "      <th>4</th>\n",
              "      <td>[Water,  Snail Secretion Filtrate,  Phenyl Tri...</td>\n",
              "    </tr>\n",
              "    <tr>\n",
              "      <th>...</th>\n",
              "      <td>...</td>\n",
              "    </tr>\n",
              "    <tr>\n",
              "      <th>1467</th>\n",
              "      <td>[Water,  Alcohol Denat.,  Potassium Cetyl Phos...</td>\n",
              "    </tr>\n",
              "    <tr>\n",
              "      <th>1468</th>\n",
              "      <td>[Water,  Isododecane,  Dimethicone,  Butylocty...</td>\n",
              "    </tr>\n",
              "    <tr>\n",
              "      <th>1469</th>\n",
              "      <td>[Water,  Dihydroxyacetone,  Glycerin,  Scleroc...</td>\n",
              "    </tr>\n",
              "    <tr>\n",
              "      <th>1470</th>\n",
              "      <td>[Water,  Dihydroxyacetone,  Propylene Glycol, ...</td>\n",
              "    </tr>\n",
              "    <tr>\n",
              "      <th>1471</th>\n",
              "      <td>[Visit the DERMAFLASH boutique]</td>\n",
              "    </tr>\n",
              "  </tbody>\n",
              "</table>\n",
              "<p>1472 rows × 1 columns</p>\n",
              "</div><br><label><b>dtype:</b> object</label>"
            ]
          },
          "metadata": {},
          "execution_count": 7
        }
      ]
    },
    {
      "cell_type": "code",
      "source": [
        "# Step 2: Preprocess each ingredient\n",
        "def clean_ingredient(ingredient):\n",
        "    # Convert to lowercase\n",
        "    ingredient = ingredient.lower()\n",
        "    # Remove special characters and numbers\n",
        "    ingredient = ''.join(char for char in ingredient if char.isalpha() or char.isspace())\n",
        "    # Strip extra whitespace\n",
        "    ingredient = ingredient.strip()\n",
        "    return ingredient\n",
        "\n",
        "# Apply cleaning function to all ingredients\n",
        "cosmetic_ingredients = cosmetic_ingredients.apply(lambda x: [clean_ingredient(i) for i in x])\n",
        "\n",
        "# Step 3: Flatten the data (Optional)\n",
        "# Create a new DataFrame where each row is a single ingredient\n",
        "ingredients_flat = pd.DataFrame({\n",
        "    \"Ingredient\": [ingredient for sublist in cosmetic_ingredients for ingredient in sublist]\n",
        "})\n",
        "\n",
        "# Drop duplicates and clean empty strings\n",
        "ingredients_flat = ingredients_flat.drop_duplicates()\n",
        "ingredients_flat_cosmetics = ingredients_flat[ingredients_flat['Ingredient'] != \"\"]\n",
        "\n",
        "# Save cleaned and flattened data\n",
        "ingredients_flat_cosmetics.to_csv(\"cleaned_ingredients_cosmetic.csv\", index=False)\n",
        "print(\"Cleaned dataset saved!\")"
      ],
      "metadata": {
        "colab": {
          "base_uri": "https://localhost:8080/"
        },
        "id": "VgdeNYbV9AAv",
        "outputId": "bb9561e9-15bd-48f3-9d9b-560823ae5b21"
      },
      "execution_count": 8,
      "outputs": [
        {
          "output_type": "stream",
          "name": "stdout",
          "text": [
            "Cleaned dataset saved!\n"
          ]
        }
      ]
    },
    {
      "cell_type": "code",
      "source": [],
      "metadata": {
        "id": "8vtZHDw59RIo"
      },
      "execution_count": 12,
      "outputs": []
    },
    {
      "cell_type": "code",
      "source": [
        "food_ingredients = food_ingredients.str.split(',')"
      ],
      "metadata": {
        "id": "pM-NQAcp9UBB"
      },
      "execution_count": 13,
      "outputs": []
    },
    {
      "cell_type": "code",
      "source": [
        "# Step 2: Preprocess each ingredient\n",
        "def clean_ingredient(ingredient):\n",
        "    # Convert to lowercase\n",
        "    if isinstance(ingredient, str): # Check if the ingredient is a string\n",
        "        ingredient = ingredient.lower()\n",
        "        # Remove special characters and numbers\n",
        "        ingredient = ''.join(char for char in ingredient if char.isalpha() or char.isspace())\n",
        "        # Strip extra whitespace\n",
        "        ingredient = ingredient.strip()\n",
        "    # Handle non-string values (e.g., replace with empty string)\n",
        "    else:\n",
        "        ingredient = \"\" # or any other suitable handling\n",
        "    return ingredient\n",
        "\n",
        "# Apply cleaning function to all ingredients\n",
        "food_ingredients = food_ingredients.apply(lambda x: [clean_ingredient(i) for i in x] if isinstance(x, list) else []) # Apply cleaning only if x is a list\n",
        "\n",
        "# Step 3: Flatten the data (Optional)\n",
        "# Create a new DataFrame where each row is a single ingredient\n",
        "ingredients_flat_food = pd.DataFrame({\n",
        "    \"Ingredient\": [ingredient for sublist in food_ingredients for ingredient in sublist]\n",
        "})\n",
        "\n",
        "# Drop duplicates and clean empty strings\n",
        "ingredients_flat_food = ingredients_flat_food.drop_duplicates()\n",
        "ingredients_flat_food = ingredients_flat_food[ingredients_flat_food['Ingredient'] != \"\"] # Use the correct DataFrame name: ingredients_flat_food\n",
        "\n",
        "# Save cleaned and flattened data\n",
        "ingredients_flat_food.to_csv(\"cleaned_ingredients_food.csv\", index=False)\n",
        "print(\"Cleaned dataset saved!\")"
      ],
      "metadata": {
        "colab": {
          "base_uri": "https://localhost:8080/"
        },
        "id": "saoEMmV49voa",
        "outputId": "892103db-236b-48f2-f396-6703c5aeb830"
      },
      "execution_count": 14,
      "outputs": [
        {
          "output_type": "stream",
          "name": "stdout",
          "text": [
            "Cleaned dataset saved!\n"
          ]
        }
      ]
    },
    {
      "cell_type": "code",
      "source": [
        "ingredients_flat_food"
      ],
      "metadata": {
        "colab": {
          "base_uri": "https://localhost:8080/",
          "height": 423
        },
        "id": "euj9jYYL-AlX",
        "outputId": "b11e7029-aa30-434c-ff32-07e7dd62c59e"
      },
      "execution_count": 15,
      "outputs": [
        {
          "output_type": "execute_result",
          "data": {
            "text/plain": [
              "                                            Ingredient\n",
              "0                                         dried prunes\n",
              "1                                                water\n",
              "2                                           corn syrup\n",
              "3                                                sugar\n",
              "4                                               pectin\n",
              "...                                                ...\n",
              "58090                                       flour salt\n",
              "58098                         natural cinnamon essence\n",
              "58121                        semisweet chocolate chips\n",
              "58164  quality black tea and natural blueberry flavors\n",
              "58237                       semisweet chocolate chunks\n",
              "\n",
              "[10843 rows x 1 columns]"
            ],
            "text/html": [
              "\n",
              "  <div id=\"df-837d62f0-539c-43f7-856d-789621a88834\" class=\"colab-df-container\">\n",
              "    <div>\n",
              "<style scoped>\n",
              "    .dataframe tbody tr th:only-of-type {\n",
              "        vertical-align: middle;\n",
              "    }\n",
              "\n",
              "    .dataframe tbody tr th {\n",
              "        vertical-align: top;\n",
              "    }\n",
              "\n",
              "    .dataframe thead th {\n",
              "        text-align: right;\n",
              "    }\n",
              "</style>\n",
              "<table border=\"1\" class=\"dataframe\">\n",
              "  <thead>\n",
              "    <tr style=\"text-align: right;\">\n",
              "      <th></th>\n",
              "      <th>Ingredient</th>\n",
              "    </tr>\n",
              "  </thead>\n",
              "  <tbody>\n",
              "    <tr>\n",
              "      <th>0</th>\n",
              "      <td>dried prunes</td>\n",
              "    </tr>\n",
              "    <tr>\n",
              "      <th>1</th>\n",
              "      <td>water</td>\n",
              "    </tr>\n",
              "    <tr>\n",
              "      <th>2</th>\n",
              "      <td>corn syrup</td>\n",
              "    </tr>\n",
              "    <tr>\n",
              "      <th>3</th>\n",
              "      <td>sugar</td>\n",
              "    </tr>\n",
              "    <tr>\n",
              "      <th>4</th>\n",
              "      <td>pectin</td>\n",
              "    </tr>\n",
              "    <tr>\n",
              "      <th>...</th>\n",
              "      <td>...</td>\n",
              "    </tr>\n",
              "    <tr>\n",
              "      <th>58090</th>\n",
              "      <td>flour salt</td>\n",
              "    </tr>\n",
              "    <tr>\n",
              "      <th>58098</th>\n",
              "      <td>natural cinnamon essence</td>\n",
              "    </tr>\n",
              "    <tr>\n",
              "      <th>58121</th>\n",
              "      <td>semisweet chocolate chips</td>\n",
              "    </tr>\n",
              "    <tr>\n",
              "      <th>58164</th>\n",
              "      <td>quality black tea and natural blueberry flavors</td>\n",
              "    </tr>\n",
              "    <tr>\n",
              "      <th>58237</th>\n",
              "      <td>semisweet chocolate chunks</td>\n",
              "    </tr>\n",
              "  </tbody>\n",
              "</table>\n",
              "<p>10843 rows × 1 columns</p>\n",
              "</div>\n",
              "    <div class=\"colab-df-buttons\">\n",
              "\n",
              "  <div class=\"colab-df-container\">\n",
              "    <button class=\"colab-df-convert\" onclick=\"convertToInteractive('df-837d62f0-539c-43f7-856d-789621a88834')\"\n",
              "            title=\"Convert this dataframe to an interactive table.\"\n",
              "            style=\"display:none;\">\n",
              "\n",
              "  <svg xmlns=\"http://www.w3.org/2000/svg\" height=\"24px\" viewBox=\"0 -960 960 960\">\n",
              "    <path d=\"M120-120v-720h720v720H120Zm60-500h600v-160H180v160Zm220 220h160v-160H400v160Zm0 220h160v-160H400v160ZM180-400h160v-160H180v160Zm440 0h160v-160H620v160ZM180-180h160v-160H180v160Zm440 0h160v-160H620v160Z\"/>\n",
              "  </svg>\n",
              "    </button>\n",
              "\n",
              "  <style>\n",
              "    .colab-df-container {\n",
              "      display:flex;\n",
              "      gap: 12px;\n",
              "    }\n",
              "\n",
              "    .colab-df-convert {\n",
              "      background-color: #E8F0FE;\n",
              "      border: none;\n",
              "      border-radius: 50%;\n",
              "      cursor: pointer;\n",
              "      display: none;\n",
              "      fill: #1967D2;\n",
              "      height: 32px;\n",
              "      padding: 0 0 0 0;\n",
              "      width: 32px;\n",
              "    }\n",
              "\n",
              "    .colab-df-convert:hover {\n",
              "      background-color: #E2EBFA;\n",
              "      box-shadow: 0px 1px 2px rgba(60, 64, 67, 0.3), 0px 1px 3px 1px rgba(60, 64, 67, 0.15);\n",
              "      fill: #174EA6;\n",
              "    }\n",
              "\n",
              "    .colab-df-buttons div {\n",
              "      margin-bottom: 4px;\n",
              "    }\n",
              "\n",
              "    [theme=dark] .colab-df-convert {\n",
              "      background-color: #3B4455;\n",
              "      fill: #D2E3FC;\n",
              "    }\n",
              "\n",
              "    [theme=dark] .colab-df-convert:hover {\n",
              "      background-color: #434B5C;\n",
              "      box-shadow: 0px 1px 3px 1px rgba(0, 0, 0, 0.15);\n",
              "      filter: drop-shadow(0px 1px 2px rgba(0, 0, 0, 0.3));\n",
              "      fill: #FFFFFF;\n",
              "    }\n",
              "  </style>\n",
              "\n",
              "    <script>\n",
              "      const buttonEl =\n",
              "        document.querySelector('#df-837d62f0-539c-43f7-856d-789621a88834 button.colab-df-convert');\n",
              "      buttonEl.style.display =\n",
              "        google.colab.kernel.accessAllowed ? 'block' : 'none';\n",
              "\n",
              "      async function convertToInteractive(key) {\n",
              "        const element = document.querySelector('#df-837d62f0-539c-43f7-856d-789621a88834');\n",
              "        const dataTable =\n",
              "          await google.colab.kernel.invokeFunction('convertToInteractive',\n",
              "                                                    [key], {});\n",
              "        if (!dataTable) return;\n",
              "\n",
              "        const docLinkHtml = 'Like what you see? Visit the ' +\n",
              "          '<a target=\"_blank\" href=https://colab.research.google.com/notebooks/data_table.ipynb>data table notebook</a>'\n",
              "          + ' to learn more about interactive tables.';\n",
              "        element.innerHTML = '';\n",
              "        dataTable['output_type'] = 'display_data';\n",
              "        await google.colab.output.renderOutput(dataTable, element);\n",
              "        const docLink = document.createElement('div');\n",
              "        docLink.innerHTML = docLinkHtml;\n",
              "        element.appendChild(docLink);\n",
              "      }\n",
              "    </script>\n",
              "  </div>\n",
              "\n",
              "\n",
              "<div id=\"df-9c2d1deb-9213-4137-b85d-5e24f4ac0e26\">\n",
              "  <button class=\"colab-df-quickchart\" onclick=\"quickchart('df-9c2d1deb-9213-4137-b85d-5e24f4ac0e26')\"\n",
              "            title=\"Suggest charts\"\n",
              "            style=\"display:none;\">\n",
              "\n",
              "<svg xmlns=\"http://www.w3.org/2000/svg\" height=\"24px\"viewBox=\"0 0 24 24\"\n",
              "     width=\"24px\">\n",
              "    <g>\n",
              "        <path d=\"M19 3H5c-1.1 0-2 .9-2 2v14c0 1.1.9 2 2 2h14c1.1 0 2-.9 2-2V5c0-1.1-.9-2-2-2zM9 17H7v-7h2v7zm4 0h-2V7h2v10zm4 0h-2v-4h2v4z\"/>\n",
              "    </g>\n",
              "</svg>\n",
              "  </button>\n",
              "\n",
              "<style>\n",
              "  .colab-df-quickchart {\n",
              "      --bg-color: #E8F0FE;\n",
              "      --fill-color: #1967D2;\n",
              "      --hover-bg-color: #E2EBFA;\n",
              "      --hover-fill-color: #174EA6;\n",
              "      --disabled-fill-color: #AAA;\n",
              "      --disabled-bg-color: #DDD;\n",
              "  }\n",
              "\n",
              "  [theme=dark] .colab-df-quickchart {\n",
              "      --bg-color: #3B4455;\n",
              "      --fill-color: #D2E3FC;\n",
              "      --hover-bg-color: #434B5C;\n",
              "      --hover-fill-color: #FFFFFF;\n",
              "      --disabled-bg-color: #3B4455;\n",
              "      --disabled-fill-color: #666;\n",
              "  }\n",
              "\n",
              "  .colab-df-quickchart {\n",
              "    background-color: var(--bg-color);\n",
              "    border: none;\n",
              "    border-radius: 50%;\n",
              "    cursor: pointer;\n",
              "    display: none;\n",
              "    fill: var(--fill-color);\n",
              "    height: 32px;\n",
              "    padding: 0;\n",
              "    width: 32px;\n",
              "  }\n",
              "\n",
              "  .colab-df-quickchart:hover {\n",
              "    background-color: var(--hover-bg-color);\n",
              "    box-shadow: 0 1px 2px rgba(60, 64, 67, 0.3), 0 1px 3px 1px rgba(60, 64, 67, 0.15);\n",
              "    fill: var(--button-hover-fill-color);\n",
              "  }\n",
              "\n",
              "  .colab-df-quickchart-complete:disabled,\n",
              "  .colab-df-quickchart-complete:disabled:hover {\n",
              "    background-color: var(--disabled-bg-color);\n",
              "    fill: var(--disabled-fill-color);\n",
              "    box-shadow: none;\n",
              "  }\n",
              "\n",
              "  .colab-df-spinner {\n",
              "    border: 2px solid var(--fill-color);\n",
              "    border-color: transparent;\n",
              "    border-bottom-color: var(--fill-color);\n",
              "    animation:\n",
              "      spin 1s steps(1) infinite;\n",
              "  }\n",
              "\n",
              "  @keyframes spin {\n",
              "    0% {\n",
              "      border-color: transparent;\n",
              "      border-bottom-color: var(--fill-color);\n",
              "      border-left-color: var(--fill-color);\n",
              "    }\n",
              "    20% {\n",
              "      border-color: transparent;\n",
              "      border-left-color: var(--fill-color);\n",
              "      border-top-color: var(--fill-color);\n",
              "    }\n",
              "    30% {\n",
              "      border-color: transparent;\n",
              "      border-left-color: var(--fill-color);\n",
              "      border-top-color: var(--fill-color);\n",
              "      border-right-color: var(--fill-color);\n",
              "    }\n",
              "    40% {\n",
              "      border-color: transparent;\n",
              "      border-right-color: var(--fill-color);\n",
              "      border-top-color: var(--fill-color);\n",
              "    }\n",
              "    60% {\n",
              "      border-color: transparent;\n",
              "      border-right-color: var(--fill-color);\n",
              "    }\n",
              "    80% {\n",
              "      border-color: transparent;\n",
              "      border-right-color: var(--fill-color);\n",
              "      border-bottom-color: var(--fill-color);\n",
              "    }\n",
              "    90% {\n",
              "      border-color: transparent;\n",
              "      border-bottom-color: var(--fill-color);\n",
              "    }\n",
              "  }\n",
              "</style>\n",
              "\n",
              "  <script>\n",
              "    async function quickchart(key) {\n",
              "      const quickchartButtonEl =\n",
              "        document.querySelector('#' + key + ' button');\n",
              "      quickchartButtonEl.disabled = true;  // To prevent multiple clicks.\n",
              "      quickchartButtonEl.classList.add('colab-df-spinner');\n",
              "      try {\n",
              "        const charts = await google.colab.kernel.invokeFunction(\n",
              "            'suggestCharts', [key], {});\n",
              "      } catch (error) {\n",
              "        console.error('Error during call to suggestCharts:', error);\n",
              "      }\n",
              "      quickchartButtonEl.classList.remove('colab-df-spinner');\n",
              "      quickchartButtonEl.classList.add('colab-df-quickchart-complete');\n",
              "    }\n",
              "    (() => {\n",
              "      let quickchartButtonEl =\n",
              "        document.querySelector('#df-9c2d1deb-9213-4137-b85d-5e24f4ac0e26 button');\n",
              "      quickchartButtonEl.style.display =\n",
              "        google.colab.kernel.accessAllowed ? 'block' : 'none';\n",
              "    })();\n",
              "  </script>\n",
              "</div>\n",
              "\n",
              "  <div id=\"id_a253ba15-59b4-4aef-8eef-a8e65aca27e3\">\n",
              "    <style>\n",
              "      .colab-df-generate {\n",
              "        background-color: #E8F0FE;\n",
              "        border: none;\n",
              "        border-radius: 50%;\n",
              "        cursor: pointer;\n",
              "        display: none;\n",
              "        fill: #1967D2;\n",
              "        height: 32px;\n",
              "        padding: 0 0 0 0;\n",
              "        width: 32px;\n",
              "      }\n",
              "\n",
              "      .colab-df-generate:hover {\n",
              "        background-color: #E2EBFA;\n",
              "        box-shadow: 0px 1px 2px rgba(60, 64, 67, 0.3), 0px 1px 3px 1px rgba(60, 64, 67, 0.15);\n",
              "        fill: #174EA6;\n",
              "      }\n",
              "\n",
              "      [theme=dark] .colab-df-generate {\n",
              "        background-color: #3B4455;\n",
              "        fill: #D2E3FC;\n",
              "      }\n",
              "\n",
              "      [theme=dark] .colab-df-generate:hover {\n",
              "        background-color: #434B5C;\n",
              "        box-shadow: 0px 1px 3px 1px rgba(0, 0, 0, 0.15);\n",
              "        filter: drop-shadow(0px 1px 2px rgba(0, 0, 0, 0.3));\n",
              "        fill: #FFFFFF;\n",
              "      }\n",
              "    </style>\n",
              "    <button class=\"colab-df-generate\" onclick=\"generateWithVariable('ingredients_flat_food')\"\n",
              "            title=\"Generate code using this dataframe.\"\n",
              "            style=\"display:none;\">\n",
              "\n",
              "  <svg xmlns=\"http://www.w3.org/2000/svg\" height=\"24px\"viewBox=\"0 0 24 24\"\n",
              "       width=\"24px\">\n",
              "    <path d=\"M7,19H8.4L18.45,9,17,7.55,7,17.6ZM5,21V16.75L18.45,3.32a2,2,0,0,1,2.83,0l1.4,1.43a1.91,1.91,0,0,1,.58,1.4,1.91,1.91,0,0,1-.58,1.4L9.25,21ZM18.45,9,17,7.55Zm-12,3A5.31,5.31,0,0,0,4.9,8.1,5.31,5.31,0,0,0,1,6.5,5.31,5.31,0,0,0,4.9,4.9,5.31,5.31,0,0,0,6.5,1,5.31,5.31,0,0,0,8.1,4.9,5.31,5.31,0,0,0,12,6.5,5.46,5.46,0,0,0,6.5,12Z\"/>\n",
              "  </svg>\n",
              "    </button>\n",
              "    <script>\n",
              "      (() => {\n",
              "      const buttonEl =\n",
              "        document.querySelector('#id_a253ba15-59b4-4aef-8eef-a8e65aca27e3 button.colab-df-generate');\n",
              "      buttonEl.style.display =\n",
              "        google.colab.kernel.accessAllowed ? 'block' : 'none';\n",
              "\n",
              "      buttonEl.onclick = () => {\n",
              "        google.colab.notebook.generateWithVariable('ingredients_flat_food');\n",
              "      }\n",
              "      })();\n",
              "    </script>\n",
              "  </div>\n",
              "\n",
              "    </div>\n",
              "  </div>\n"
            ],
            "application/vnd.google.colaboratory.intrinsic+json": {
              "type": "dataframe",
              "variable_name": "ingredients_flat_food",
              "summary": "{\n  \"name\": \"ingredients_flat_food\",\n  \"rows\": 10843,\n  \"fields\": [\n    {\n      \"column\": \"Ingredient\",\n      \"properties\": {\n        \"dtype\": \"string\",\n        \"num_unique_values\": 10843,\n        \"samples\": [\n          \"inulin jeruselem artichoke\",\n          \"decaffeinated white tea and ascorbic acid vitamin c\",\n          \"champagne\"\n        ],\n        \"semantic_type\": \"\",\n        \"description\": \"\"\n      }\n    }\n  ]\n}"
            }
          },
          "metadata": {},
          "execution_count": 15
        }
      ]
    },
    {
      "cell_type": "code",
      "source": [
        "cosmetics_file = \"cleaned_ingredients_cosmetic.csv\"  # Replace with your file path\n",
        "food_file = \"cleaned_ingredients_food.csv\"  # Replace with your file path"
      ],
      "metadata": {
        "id": "Ulnw6wyN-NR4"
      },
      "execution_count": 16,
      "outputs": []
    },
    {
      "cell_type": "code",
      "source": [
        "cosmetics_df = pd.read_csv(cosmetics_file, header=None, names=[\"Ingredient\"])\n",
        "food_df = pd.read_csv(food_file, header=None, names=[\"Ingredient\"])"
      ],
      "metadata": {
        "id": "K3MMYgfT_Spa"
      },
      "execution_count": 17,
      "outputs": []
    },
    {
      "cell_type": "code",
      "source": [
        "# Add labels: 1 for cosmetics, 0 for food\n",
        "cosmetics_df['Label'] = 1\n",
        "food_df['Label'] = 0"
      ],
      "metadata": {
        "id": "nX6Xvjfz_VXt"
      },
      "execution_count": 18,
      "outputs": []
    },
    {
      "cell_type": "code",
      "source": [
        "# Cleaning function\n",
        "def clean_ingredient(ingredient):\n",
        "    ingredient = ingredient.lower()  # Convert to lowercase\n",
        "    ingredient = ''.join(char for char in ingredient if char.isalpha() or char.isspace())  # Remove special characters\n",
        "    return ingredient.strip()  # Strip whitespace"
      ],
      "metadata": {
        "id": "ObJYvM3l_r2v"
      },
      "execution_count": 19,
      "outputs": []
    },
    {
      "cell_type": "code",
      "source": [
        "# Clean the ingredients\n",
        "cosmetics_df['Ingredient'] = cosmetics_df['Ingredient'].apply(clean_ingredient)\n",
        "food_df['Ingredient'] = food_df['Ingredient'].apply(clean_ingredient)"
      ],
      "metadata": {
        "id": "wUOQvrsD_tuD"
      },
      "execution_count": 20,
      "outputs": []
    },
    {
      "cell_type": "code",
      "source": [
        "# Combine the datasets\n",
        "combined_df = pd.concat([cosmetics_df, food_df], ignore_index=True)\n",
        "\n",
        "# Shuffle the dataset (optional, for better model training)\n",
        "combined_df = combined_df.sample(frac=1, random_state=42).reset_index(drop=True)"
      ],
      "metadata": {
        "id": "A9yZTERv_vUk"
      },
      "execution_count": 21,
      "outputs": []
    },
    {
      "cell_type": "code",
      "source": [
        "# Save the processed dataset\n",
        "combined_df.to_csv(\"processed_ingredients_dataset.csv\", index=False)\n",
        "print(\"Processed dataset saved successfully!\")\n",
        "\n",
        "# Preview the dataset\n",
        "print(combined_df.head())"
      ],
      "metadata": {
        "colab": {
          "base_uri": "https://localhost:8080/"
        },
        "id": "17I4WN8F_xWY",
        "outputId": "dbca5f73-0632-480c-cac2-1855ee1aa287"
      },
      "execution_count": 22,
      "outputs": [
        {
          "output_type": "stream",
          "name": "stdout",
          "text": [
            "Processed dataset saved successfully!\n",
            "                                        Ingredient  Label\n",
            "0                    lemon juice concentrate water      0\n",
            "1                       organic coconut palm sugar      0\n",
            "2         white grape juice from concentrate water      0\n",
            "3  natural flavors including natural coffee flavor      0\n",
            "4                            peg glyceryl stearate      1\n"
          ]
        }
      ]
    },
    {
      "cell_type": "code",
      "source": [
        "import pandas as pd\n",
        "from sklearn.model_selection import train_test_split\n",
        "from transformers import AutoTokenizer, BertForSequenceClassification, Trainer, TrainingArguments\n",
        "import torch\n",
        "\n",
        "\n",
        "\n",
        "\n",
        "\n",
        "import pandas as pd\n",
        "from sklearn.model_selection import train_test_split\n",
        "from transformers import AutoTokenizer\n",
        "from imblearn.over_sampling import SMOTE\n",
        "\n",
        "# Load the processed dataset\n",
        "file_path = \"processed_ingredients_dataset.csv\"  # Replace with your file path\n",
        "df = pd.read_csv(file_path)\n",
        "\n",
        "# Separate features (X) and labels (y)\n",
        "X = df['Ingredient']\n",
        "y = df['Label']\n",
        "\n",
        "# Convert text data into numerical format using tokenization\n",
        "tokenizer = AutoTokenizer.from_pretrained(\"bert-base-uncased\")\n",
        "X_encoded = tokenizer(list(X), truncation=True, padding=True, max_length=128, return_tensors=\"np\")[\"input_ids\"]\n",
        "\n",
        "# Use SMOTE to oversample the minority class\n",
        "smote = SMOTE(random_state=42)\n",
        "X_resampled, y_resampled = smote.fit_resample(X_encoded, y)\n",
        "\n",
        "# Convert resampled data back to a DataFrame\n",
        "X_resampled_texts = tokenizer.batch_decode(X_resampled, skip_special_tokens=True)  # Decode back to text\n",
        "resampled_df = pd.DataFrame({\n",
        "    \"Ingredient\": X_resampled_texts,\n",
        "    \"Label\": y_resampled\n",
        "})\n",
        "\n",
        "# Shuffle the dataset (optional, but useful for balanced training)\n",
        "resampled_df = resampled_df.sample(frac=1, random_state=42).reset_index(drop=True)\n",
        "\n",
        "# Save the resampled dataset\n",
        "resampled_df.to_csv(\"balanced_ingredients_dataset.csv\", index=False)\n",
        "print(\"Balanced dataset saved successfully!\")\n",
        "print(resampled_df['Label'].value_counts())  # Check the class distribution\n",
        "\n",
        "\n",
        "# Load the processed dataset\n",
        "file_path = \"balanced_ingredients_dataset.csv\"  # Replace with your file path\n",
        "df = pd.read_csv(file_path)\n",
        "\n",
        "# Split data into training and testing sets\n",
        "train_texts, test_texts, train_labels, test_labels = train_test_split(\n",
        "    df['Ingredient'], df['Label'], test_size=0.2, random_state=42\n",
        ")\n",
        "\n",
        "# Load BERT tokenizer\n",
        "tokenizer = AutoTokenizer.from_pretrained(\"bert-base-uncased\")\n",
        "\n",
        "# Tokenize the data\n",
        "train_encodings = tokenizer(list(train_texts), truncation=True, padding=True, max_length=128)\n",
        "test_encodings = tokenizer(list(test_texts), truncation=True, padding=True, max_length=128)\n",
        "\n"
      ],
      "metadata": {
        "colab": {
          "base_uri": "https://localhost:8080/"
        },
        "id": "EWUK43w8_y_g",
        "outputId": "d723f9fc-4a97-44e5-e17d-0395e7c48e39"
      },
      "execution_count": 45,
      "outputs": [
        {
          "output_type": "stream",
          "name": "stdout",
          "text": [
            "Balanced dataset saved successfully!\n",
            "Label\n",
            "0    10844\n",
            "1    10844\n",
            "Name: count, dtype: int64\n"
          ]
        }
      ]
    },
    {
      "cell_type": "code",
      "source": [
        "# Create PyTorch datasets\n",
        "class IngredientsDataset(torch.utils.data.Dataset):\n",
        "    def __init__(self, encodings, labels):\n",
        "        self.encodings = encodings\n",
        "        self.labels = labels\n",
        "\n",
        "    def __len__(self):\n",
        "        return len(self.labels)\n",
        "\n",
        "    def __getitem__(self, idx):\n",
        "        item = {key: torch.tensor(val[idx]) for key, val in self.encodings.items()}\n",
        "        item['labels'] = torch.tensor(self.labels[idx])\n",
        "        return item\n",
        "\n",
        "train_dataset = IngredientsDataset(train_encodings, list(train_labels))\n",
        "test_dataset = IngredientsDataset(test_encodings, list(test_labels))"
      ],
      "metadata": {
        "id": "HTxh8H82AC1d"
      },
      "execution_count": 46,
      "outputs": []
    },
    {
      "cell_type": "code",
      "source": [
        "# Load BERT model for sequence classification\n",
        "model = BertForSequenceClassification.from_pretrained(\"bert-base-uncased\", num_labels=2)\n",
        "\n",
        "# Define training arguments\n",
        "training_args = TrainingArguments(\n",
        "    output_dir=\"./bert_results\",        # Output directory\n",
        "    num_train_epochs=4,                 # Number of epochs\n",
        "    per_device_train_batch_size=16,     # Batch size for training\n",
        "    per_device_eval_batch_size=16,      # Batch size for evaluation\n",
        "    warmup_steps=500,                   # Number of warmup steps\n",
        "    weight_decay=0.01,                  # Weight decay\n",
        "    logging_dir=\"./bert_logs\",          # Directory for logs\n",
        "    logging_steps=10,\n",
        "    evaluation_strategy=\"epoch\",        # Evaluate at the end of each epoch\n",
        "    save_strategy=\"epoch\",              # Save model at each epoch\n",
        "    load_best_model_at_end=True         # Load the best model at the end of training\n",
        ")\n",
        "\n",
        "# Define a Trainer\n",
        "trainer = Trainer(\n",
        "    model=model,                         # The pre-trained BERT model\n",
        "    args=training_args,                  # Training arguments\n",
        "    train_dataset=train_dataset,         # Training dataset\n",
        "    eval_dataset=test_dataset            # Testing dataset\n",
        ")\n",
        "\n",
        "# Train the model\n",
        "trainer.train()"
      ],
      "metadata": {
        "colab": {
          "base_uri": "https://localhost:8080/",
          "height": 526
        },
        "id": "KPpS_9TeAJsg",
        "outputId": "f037191c-9713-4876-f2d1-19e19f4f7c76"
      },
      "execution_count": 47,
      "outputs": [
        {
          "metadata": {
            "tags": null
          },
          "name": "stderr",
          "output_type": "stream",
          "text": [
            "Some weights of BertForSequenceClassification were not initialized from the model checkpoint at bert-base-uncased and are newly initialized: ['classifier.bias', 'classifier.weight']\n",
            "You should probably TRAIN this model on a down-stream task to be able to use it for predictions and inference.\n",
            "/usr/local/lib/python3.11/dist-packages/transformers/training_args.py:1575: FutureWarning: `evaluation_strategy` is deprecated and will be removed in version 4.46 of 🤗 Transformers. Use `eval_strategy` instead\n",
            "  warnings.warn(\n"
          ]
        },
        {
          "data": {
            "text/html": [
              "\n",
              "    <div>\n",
              "      \n",
              "      <progress value='4341' max='4340' style='width:300px; height:20px; vertical-align: middle;'></progress>\n",
              "      [4340/4340 26:48, Epoch 4/4]\n",
              "    </div>\n",
              "    <table border=\"1\" class=\"dataframe\">\n",
              "  <thead>\n",
              " <tr style=\"text-align: left;\">\n",
              "      <th>Epoch</th>\n",
              "      <th>Training Loss</th>\n",
              "      <th>Validation Loss</th>\n",
              "    </tr>\n",
              "  </thead>\n",
              "  <tbody>\n",
              "    <tr>\n",
              "      <td>1</td>\n",
              "      <td>0.245700</td>\n",
              "      <td>0.199223</td>\n",
              "    </tr>\n",
              "    <tr>\n",
              "      <td>2</td>\n",
              "      <td>0.182200</td>\n",
              "      <td>0.187371</td>\n",
              "    </tr>\n",
              "    <tr>\n",
              "      <td>3</td>\n",
              "      <td>0.034300</td>\n",
              "      <td>0.201321</td>\n",
              "    </tr>\n",
              "    <tr>\n",
              "      <td>4</td>\n",
              "      <td>0.171100</td>\n",
              "      <td>0.214406</td>\n",
              "    </tr>\n",
              "  </tbody>\n",
              "</table><p>"
            ],
            "text/plain": [
              "<IPython.core.display.HTML object>"
            ]
          },
          "metadata": {},
          "output_type": "display_data"
        },
        {
          "output_type": "display_data",
          "data": {
            "text/plain": [
              "<IPython.core.display.HTML object>"
            ],
            "text/html": [
              "\n",
              "    <div>\n",
              "      \n",
              "      <progress value='4340' max='4340' style='width:300px; height:20px; vertical-align: middle;'></progress>\n",
              "      [4340/4340 28:00, Epoch 4/4]\n",
              "    </div>\n",
              "    <table border=\"1\" class=\"dataframe\">\n",
              "  <thead>\n",
              " <tr style=\"text-align: left;\">\n",
              "      <th>Epoch</th>\n",
              "      <th>Training Loss</th>\n",
              "      <th>Validation Loss</th>\n",
              "    </tr>\n",
              "  </thead>\n",
              "  <tbody>\n",
              "    <tr>\n",
              "      <td>1</td>\n",
              "      <td>0.245700</td>\n",
              "      <td>0.199223</td>\n",
              "    </tr>\n",
              "    <tr>\n",
              "      <td>2</td>\n",
              "      <td>0.182200</td>\n",
              "      <td>0.187371</td>\n",
              "    </tr>\n",
              "    <tr>\n",
              "      <td>3</td>\n",
              "      <td>0.034300</td>\n",
              "      <td>0.201321</td>\n",
              "    </tr>\n",
              "    <tr>\n",
              "      <td>4</td>\n",
              "      <td>0.171100</td>\n",
              "      <td>0.214406</td>\n",
              "    </tr>\n",
              "  </tbody>\n",
              "</table><p>"
            ]
          },
          "metadata": {}
        },
        {
          "output_type": "execute_result",
          "data": {
            "text/plain": [
              "TrainOutput(global_step=4340, training_loss=0.13598194268107208, metrics={'train_runtime': 1680.7261, 'train_samples_per_second': 41.292, 'train_steps_per_second': 2.582, 'total_flos': 4564976810496000.0, 'train_loss': 0.13598194268107208, 'epoch': 4.0})"
            ]
          },
          "metadata": {},
          "execution_count": 47
        }
      ]
    },
    {
      "cell_type": "code",
      "source": [
        "# Evaluate the model\n",
        "from sklearn.metrics import classification_report\n",
        "\n",
        "# Predict on test data\n",
        "predictions = trainer.predict(test_dataset)\n",
        "predicted_labels = torch.argmax(torch.tensor(predictions.predictions), axis=1).numpy()\n",
        "\n",
        "# Print classification report\n",
        "print(classification_report(test_labels, predicted_labels, target_names=[\"Non-Cosmetic\", \"Cosmetic\"]))"
      ],
      "metadata": {
        "colab": {
          "base_uri": "https://localhost:8080/",
          "height": 173
        },
        "id": "kYDnpL34AL-E",
        "outputId": "ba1f8245-1cb2-4fed-b896-173ac054aaf2"
      },
      "execution_count": 48,
      "outputs": [
        {
          "output_type": "display_data",
          "data": {
            "text/plain": [
              "<IPython.core.display.HTML object>"
            ],
            "text/html": []
          },
          "metadata": {}
        },
        {
          "output_type": "stream",
          "name": "stdout",
          "text": [
            "              precision    recall  f1-score   support\n",
            "\n",
            "Non-Cosmetic       0.94      0.97      0.95      2173\n",
            "    Cosmetic       0.96      0.94      0.95      2165\n",
            "\n",
            "    accuracy                           0.95      4338\n",
            "   macro avg       0.95      0.95      0.95      4338\n",
            "weighted avg       0.95      0.95      0.95      4338\n",
            "\n"
          ]
        }
      ]
    },
    {
      "cell_type": "code",
      "source": [
        "\n",
        "# Save the fine-tuned BERT model and tokenizer\n",
        "model.save_pretrained(\"fine_tuned_bert\")\n",
        "tokenizer.save_pretrained(\"fine_tuned_bert\")\n",
        "print(\"Fine-tuned BERT model and tokenizer saved successfully!\")\n"
      ],
      "metadata": {
        "colab": {
          "base_uri": "https://localhost:8080/"
        },
        "id": "3sWtG_7YAfdg",
        "outputId": "b2b94b0c-63fd-4097-d615-01a4988bb39a"
      },
      "execution_count": 49,
      "outputs": [
        {
          "output_type": "stream",
          "name": "stdout",
          "text": [
            "Fine-tuned BERT model and tokenizer saved successfully!\n"
          ]
        }
      ]
    },
    {
      "cell_type": "code",
      "source": [
        "from transformers import DistilBertForSequenceClassification, AutoTokenizer\n",
        "\n",
        "model = BertForSequenceClassification.from_pretrained(\"fine_tuned_bert\")\n",
        "tokenizer = AutoTokenizer.from_pretrained(\"fine_tuned_bert\")\n"
      ],
      "metadata": {
        "id": "StnrQVA6AjSi"
      },
      "execution_count": 50,
      "outputs": []
    },
    {
      "cell_type": "code",
      "source": [
        "from transformers import DistilBertForSequenceClassification, AutoTokenizer\n",
        "import torch\n",
        "\n",
        "# Load the fine-tuned model and tokenizer\n",
        "model_path = \"fine_tuned_bert\"  # Path to your saved model\n",
        "model = BertForSequenceClassification.from_pretrained(model_path)\n",
        "tokenizer = AutoTokenizer.from_pretrained(model_path)\n"
      ],
      "metadata": {
        "id": "nINN6uswAk_0"
      },
      "execution_count": 51,
      "outputs": []
    },
    {
      "cell_type": "code",
      "source": [
        "def predict_ingredient(input_text):\n",
        "    # Preprocess the input text\n",
        "    inputs = tokenizer(input_text, truncation=True, padding=True, max_length=128, return_tensors=\"pt\")\n",
        "\n",
        "    # Perform prediction\n",
        "    outputs = model(**inputs)\n",
        "    probs = torch.nn.functional.softmax(outputs.logits, dim=-1)\n",
        "    predicted_label = torch.argmax(probs, dim=1).item()\n",
        "\n",
        "    # Map label to category\n",
        "    label_map = {0: \"Non-Cosmetic\", 1: \"Cosmetic\"}\n",
        "    return label_map[predicted_label], probs.detach().numpy()\n"
      ],
      "metadata": {
        "id": "UNSUfxa8AuEV"
      },
      "execution_count": 52,
      "outputs": []
    },
    {
      "cell_type": "code",
      "source": [
        "# Test samples\n",
        "samples = [\n",
        "    \"Aqua\",\n",
        "    \"Papaya Extract\",\n",
        "    \"Sodium Laureth Sulphate\",\n",
        "    \"Vitamin E\",\n",
        "    \"Coco Betaine\",\n",
        "    \"Sodium Cocoyl Isethionate\",\n",
        "    \"Sodium Benzoate\",\n",
        "    \"EDTA\",\n",
        "    \"Fragrance\",\n",
        "]\n",
        "\n",
        "# Predict for each sample\n",
        "for sample in samples:\n",
        "    category, probabilities = predict_ingredient(sample)\n",
        "    print(f\"Ingredient: {sample}\")\n",
        "    print(f\"Predicted Category: {category}\")\n",
        "    print(f\"Probabilities: {probabilities}\\n\")\n"
      ],
      "metadata": {
        "colab": {
          "base_uri": "https://localhost:8080/"
        },
        "id": "6jDLPVDcAva_",
        "outputId": "66956374-627f-4fd6-f50f-8f6c72eb0739"
      },
      "execution_count": 56,
      "outputs": [
        {
          "output_type": "stream",
          "name": "stdout",
          "text": [
            "Ingredient: Aqua\n",
            "Predicted Category: Cosmetic\n",
            "Probabilities: [[0.0294203  0.97057974]]\n",
            "\n",
            "Ingredient: Papaya Extract\n",
            "Predicted Category: Non-Cosmetic\n",
            "Probabilities: [[0.9556189  0.04438116]]\n",
            "\n",
            "Ingredient: Sodium Laureth Sulphate\n",
            "Predicted Category: Cosmetic\n",
            "Probabilities: [[0.01451658 0.9854834 ]]\n",
            "\n",
            "Ingredient: Vitamin E\n",
            "Predicted Category: Non-Cosmetic\n",
            "Probabilities: [[0.9629238  0.03707615]]\n",
            "\n",
            "Ingredient: Coco Betaine\n",
            "Predicted Category: Cosmetic\n",
            "Probabilities: [[0.00270503 0.99729496]]\n",
            "\n",
            "Ingredient: Sodium Cocoyl Isethionate\n",
            "Predicted Category: Cosmetic\n",
            "Probabilities: [[0.00269539 0.99730456]]\n",
            "\n",
            "Ingredient: Sodium Benzoate\n",
            "Predicted Category: Cosmetic\n",
            "Probabilities: [[0.04720719 0.9527928 ]]\n",
            "\n",
            "Ingredient: EDTA\n",
            "Predicted Category: Non-Cosmetic\n",
            "Probabilities: [[0.95283544 0.04716452]]\n",
            "\n",
            "Ingredient: Fragrance\n",
            "Predicted Category: Cosmetic\n",
            "Probabilities: [[0.00585793 0.9941421 ]]\n",
            "\n"
          ]
        }
      ]
    },
    {
      "cell_type": "code",
      "source": [],
      "metadata": {
        "id": "dxGEj3LaAwr7"
      },
      "execution_count": null,
      "outputs": []
    }
  ]
}