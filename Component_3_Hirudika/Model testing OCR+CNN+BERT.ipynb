{
 "cells": [
  {
   "cell_type": "code",
   "id": "initial_id",
   "metadata": {
    "collapsed": true,
    "ExecuteTime": {
     "end_time": "2025-02-23T07:29:23.385524Z",
     "start_time": "2025-02-23T07:29:22.872234Z"
    }
   },
   "source": [
    "import cv2\n",
    "import pytesseract\n",
    "import numpy as np\n",
    "import re\n",
    "import torch\n",
    "from transformers import BertForSequenceClassification, AutoTokenizer\n",
    "from PIL import Image, ImageFile\n",
    "\n",
    "# Load fine-tuned BERT models and tokenizers\n",
    "model_path_1 = r\"C:\\Users\\LENOVO\\Desktop\\fine_tuned_bert_____\"\n",
    "model_path_2 = r\"C:\\Users\\LENOVO\\Desktop\\fine_tuned_bert___\"\n",
    "\n",
    "model_1 = BertForSequenceClassification.from_pretrained(model_path_1)\n",
    "tokenizer_1 = AutoTokenizer.from_pretrained(model_path_1)\n",
    "\n",
    "model_2 = BertForSequenceClassification.from_pretrained(model_path_2)\n",
    "tokenizer_2 = AutoTokenizer.from_pretrained(model_path_2)\n",
    "\n",
    "# Keywords to look for in the extracted text\n",
    "KEYWORDS = [\"key ingredients\", \"key ingredient\", \"ingredient\", \"ingredients\", \"content\", \"component\", \"composition\"]\n",
    "\n",
    "# Function to preprocess image for OCR\n",
    "def preprocess_image_ocr(image_path):\n",
    "    image = cv2.imread(image_path)\n",
    "    gray = cv2.cvtColor(image, cv2.COLOR_BGR2GRAY)\n",
    "    denoised = cv2.medianBlur(gray, 3)\n",
    "    \n",
    "    # Apply CLAHE for better contrast enhancement\n",
    "    clahe = cv2.createCLAHE(clipLimit=2.0, tileGridSize=(100, 100))\n",
    "    enhanced = clahe.apply(denoised)\n",
    "    \n",
    "    return enhanced\n",
    "\n",
    "# Function to clean extracted text\n",
    "import re\n",
    "\n",
    "def clean_extracted_text(text):\n",
    "    lines = text.split(\"\\n\")\n",
    "    cleaned_lines = []\n",
    "\n",
    "    for line in lines:\n",
    "        # Remove unwanted characters (like \\, |, etc.) but preserve numbers, hyphens, and slashes\n",
    "        line = re.sub(r\"[^a-zA-Z0-9\\s,\\-%/]\", \"\", line)\n",
    "\n",
    "        # Normalize spaces\n",
    "        line = re.sub(r\"\\s+\", \" \", line).strip()\n",
    "\n",
    "        # Split the line into words\n",
    "        words = line.split()\n",
    "\n",
    "        # Remove 1 or 2-letter words from the left corner (only if they are alphabetic)\n",
    "        if len(words) > 0 and len(words[0]) <= 2 and words[0].isalpha():\n",
    "            words = words[1:]\n",
    "\n",
    "        # Remove 1 or 2-letter words from the right corner (only if they are alphabetic)\n",
    "        if len(words) > 0 and len(words[-1]) <= 2 and words[-1].isalpha():\n",
    "            words = words[:-1]\n",
    "\n",
    "        # Reconstruct the line\n",
    "        cleaned_line = \" \".join(words)\n",
    "\n",
    "        if cleaned_line:\n",
    "            cleaned_lines.append(cleaned_line)\n",
    "\n",
    "    return cleaned_lines  # Return list of cleaned ingredient lines\n",
    "\n",
    "# Function to classify an ingredient using both models\n",
    "def is_cosmetic_ingredient(ingredient):\n",
    "    # Tokenize input for both models\n",
    "    inputs_1 = tokenizer_1(ingredient, truncation=True, padding=True, max_length=128, return_tensors=\"pt\")\n",
    "    inputs_2 = tokenizer_2(ingredient, truncation=True, padding=True, max_length=128, return_tensors=\"pt\")\n",
    "\n",
    "    # Get predictions from both models\n",
    "    with torch.no_grad():\n",
    "        outputs_1 = model_1(**inputs_1)\n",
    "        outputs_2 = model_2(**inputs_2)\n",
    "\n",
    "    # Apply softmax to get probabilities\n",
    "    probs_1 = torch.nn.functional.softmax(outputs_1.logits, dim=-1).numpy().astype(np.float32)\n",
    "    probs_2 = torch.nn.functional.softmax(outputs_2.logits, dim=-1).numpy().astype(np.float32)\n",
    "\n",
    "    # Average the probabilities from both models\n",
    "    avg_probs = (probs_1 + probs_2) / 2.0\n",
    "\n",
    "    # Get the predicted label (1 for cosmetic, 0 for non-cosmetic)\n",
    "    predicted_label = np.argmax(avg_probs, axis=1)[0]\n",
    "\n",
    "    return predicted_label == 1  # Return True if classified as a cosmetic ingredient\n",
    "\n",
    "# Function to extract and filter cosmetic ingredients\n",
    "def extract_cosmetic_ingredients(image_path):\n",
    "    ImageFile.LOAD_TRUNCATED_IMAGES = True  # Prevents image truncation issues\n",
    "\n",
    "    try:\n",
    "        # Preprocess image for OCR\n",
    "        processed_image = preprocess_image_ocr(image_path)\n",
    "\n",
    "        # Perform OCR\n",
    "        custom_config = r'--oem 3 --psm 6'  # Best for dense text\n",
    "        extracted_text = pytesseract.image_to_string(processed_image, config=custom_config)\n",
    "\n",
    "        # Clean extracted text\n",
    "        ingredient_lines = clean_extracted_text(extracted_text)\n",
    "\n",
    "        if not ingredient_lines:\n",
    "            return []  # No output, just return an empty list if no ingredients found\n",
    "\n",
    "        # Find the index of the keyword in the extracted text\n",
    "        keyword_index = -1\n",
    "        for i, line in enumerate(ingredient_lines):\n",
    "            if any(keyword.lower() in line.lower() for keyword in KEYWORDS):\n",
    "                keyword_index = i\n",
    "                break\n",
    "\n",
    "        # If a keyword is found, extract lines below it (including the keyword line)\n",
    "        if keyword_index != -1:\n",
    "            # Include the keyword line and all lines below it\n",
    "            relevant_lines = ingredient_lines[keyword_index:]\n",
    "        else:\n",
    "            # If no keyword is found, process all lines\n",
    "            relevant_lines = ingredient_lines\n",
    "\n",
    "        # Filter only cosmetic ingredients from the relevant lines\n",
    "        cosmetic_ingredients = [line for line in relevant_lines if is_cosmetic_ingredient(line)]\n",
    "\n",
    "        return cosmetic_ingredients\n",
    "\n",
    "    except Exception:\n",
    "        return []  # In case of any error, return an empty list silently"
   ],
   "outputs": [],
   "execution_count": 183
  },
  {
   "metadata": {
    "ExecuteTime": {
     "end_time": "2025-02-23T08:46:39.477116Z",
     "start_time": "2025-02-23T08:46:35.134824Z"
    }
   },
   "cell_type": "code",
   "source": [
    "# Example usage\n",
    "image_path = r\"C:\\Users\\LENOVO\\Desktop\\DSGP_\\New folder\\Untitled32.jpg\"\n",
    "cosmetic_ingredients = extract_cosmetic_ingredients(image_path)\n",
    "\n",
    "# Display the extracted ingredients\n",
    "if cosmetic_ingredients:\n",
    "    print(\"Extracted Cosmetic Ingredients:\")\n",
    "    for ingredient in cosmetic_ingredients:\n",
    "        print(ingredient)\n",
    "else:\n",
    "    print(\"No cosmetic ingredients found.\")\n"
   ],
   "id": "3449a1c81461fc45",
   "outputs": [
    {
     "name": "stdout",
     "output_type": "stream",
     "text": [
      "Extracted Cosmetic Ingredients:\n",
      "Dimethicone, Dimethicone and Cyclopentasiloxane, ae\n",
      "Cydopentasiloxane, Isopropy Myristate, Phenyl\n",
      "- Trimethicone, Argania Spinosa Kernal Oil, Tocopheryl\n",
      "Acetate, Octylmethoxycinamate, Pertume\n"
     ]
    }
   ],
   "execution_count": 202
  },
  {
   "metadata": {
    "ExecuteTime": {
     "end_time": "2025-02-23T08:46:40.271149Z",
     "start_time": "2025-02-23T08:46:40.250018Z"
    }
   },
   "cell_type": "code",
   "source": "cosmetic_ingredients",
   "id": "c58cfd029ce9d35b",
   "outputs": [
    {
     "data": {
      "text/plain": [
       "['Dimethicone, Dimethicone and Cyclopentasiloxane, ae',\n",
       " 'Cydopentasiloxane, Isopropy Myristate, Phenyl',\n",
       " '- Trimethicone, Argania Spinosa Kernal Oil, Tocopheryl',\n",
       " 'Acetate, Octylmethoxycinamate, Pertume']"
      ]
     },
     "execution_count": 203,
     "metadata": {},
     "output_type": "execute_result"
    }
   ],
   "execution_count": 203
  },
  {
   "metadata": {
    "ExecuteTime": {
     "end_time": "2025-02-23T08:46:40.725955Z",
     "start_time": "2025-02-23T08:46:40.715409Z"
    }
   },
   "cell_type": "code",
   "source": [
    "# Merging lines correctly\n",
    "processed_ingredients = []\n",
    "temp = \"\"\n",
    "\n",
    "for line in cosmetic_ingredients:\n",
    "    line = line.strip()\n",
    "    if not line.endswith(\",\"):  # If line does not end with a comma, merge with the next\n",
    "        temp += \" \" + line\n",
    "    else:\n",
    "        temp += \" \" + line\n",
    "        processed_ingredients.append(temp.strip())  # Add cleaned ingredient\n",
    "        temp = \"\"  # Reset temp\n",
    "\n",
    "# If anything is left in temp, add it\n",
    "if temp:\n",
    "    processed_ingredients.append(temp.strip())\n",
    "\n",
    "# Splitting ingredients correctly and removing empty components\n",
    "cleaned_ingredients = []\n",
    "for line in processed_ingredients:\n",
    "    parts = [ingredient.strip() for ingredient in line.split(',') if ingredient.strip()]  # Remove empty components\n",
    "    cleaned_ingredients.extend(parts)\n",
    "\n",
    "# Printing ingredients correctly separated by commas\n",
    "print(\", \".join(cleaned_ingredients))"
   ],
   "id": "135c53f10decac2d",
   "outputs": [
    {
     "name": "stdout",
     "output_type": "stream",
     "text": [
      "Dimethicone, Dimethicone and Cyclopentasiloxane, ae Cydopentasiloxane, Isopropy Myristate, Phenyl - Trimethicone, Argania Spinosa Kernal Oil, Tocopheryl Acetate, Octylmethoxycinamate, Pertume\n"
     ]
    }
   ],
   "execution_count": 204
  },
  {
   "metadata": {
    "ExecuteTime": {
     "end_time": "2025-02-23T08:46:42.386638Z",
     "start_time": "2025-02-23T08:46:42.380028Z"
    }
   },
   "cell_type": "code",
   "source": [
    "for i in cleaned_ingredients:\n",
    "    print(i)"
   ],
   "id": "927b5df82ddc2d41",
   "outputs": [
    {
     "name": "stdout",
     "output_type": "stream",
     "text": [
      "Dimethicone\n",
      "Dimethicone and Cyclopentasiloxane\n",
      "ae Cydopentasiloxane\n",
      "Isopropy Myristate\n",
      "Phenyl - Trimethicone\n",
      "Argania Spinosa Kernal Oil\n",
      "Tocopheryl Acetate\n",
      "Octylmethoxycinamate\n",
      "Pertume\n"
     ]
    }
   ],
   "execution_count": 205
  },
  {
   "metadata": {},
   "cell_type": "code",
   "outputs": [],
   "execution_count": null,
   "source": "",
   "id": "73a8800c5a37a094"
  }
 ],
 "metadata": {
  "kernelspec": {
   "display_name": "Python 3",
   "language": "python",
   "name": "python3"
  },
  "language_info": {
   "codemirror_mode": {
    "name": "ipython",
    "version": 2
   },
   "file_extension": ".py",
   "mimetype": "text/x-python",
   "name": "python",
   "nbconvert_exporter": "python",
   "pygments_lexer": "ipython2",
   "version": "2.7.6"
  }
 },
 "nbformat": 4,
 "nbformat_minor": 5
}
