{
 "cells": [
  {
   "metadata": {},
   "cell_type": "code",
   "outputs": [],
   "execution_count": null,
   "source": [
    "# Get the environment \n",
    "# conda activate MLConda"
   ],
   "id": "a53bb798e11abd92"
  },
  {
   "cell_type": "code",
   "execution_count": null,
   "id": "initial_id",
   "metadata": {
    "collapsed": true
   },
   "outputs": [],
   "source": [
    "# Find directory of the current notebook\n",
    "# cd /d F:\\University\\2_Year_02\\2_Year_02_Sem1\\0_Data_Science\\Component_1_Nelishka\\Yolo_11_x"
   ]
  },
  {
   "metadata": {},
   "cell_type": "code",
   "outputs": [],
   "execution_count": null,
   "source": [
    "# temporarily set this environment variable to allow the program to proceed:\n",
    "# set KMP_DUPLICATE_LIB_OK=TRUE"
   ],
   "id": "9edc1e6bca1415d9"
  },
  {
   "metadata": {},
   "cell_type": "code",
   "outputs": [],
   "execution_count": null,
   "source": [
    "# Dataset path\n",
    "data=r\"F:\\University\\2_Year_02\\2_Year_02_Sem1\\0_Data_Science\\Component_1_Nelishka\\Yolo_11_x\\data1.yaml\","
   ],
   "id": "ff91120c2e4abcb8"
  },
  {
   "metadata": {},
   "cell_type": "code",
   "outputs": [],
   "execution_count": null,
   "source": [
    "# Train command using GPU\n",
    "#yolo task=detect mode=train model=yolo11m.pt data=F:\\University\\2_Year_02\\2_Year_02_Sem1\\0_Data_Science\\Component_1_Nelishka\\Yolo_11_x\\data1.yaml epochs=100 batch=8 imgsz=640 device=0 workers=0"
   ],
   "id": "9b691f42e96ce46e"
  },
  {
   "metadata": {},
   "cell_type": "markdown",
   "source": "## Test The Model",
   "id": "c3cfce16b9b5dcb6"
  },
  {
   "metadata": {
    "ExecuteTime": {
     "end_time": "2025-01-30T11:32:38.669614Z",
     "start_time": "2025-01-30T11:32:28.970602Z"
    }
   },
   "cell_type": "code",
   "source": [
    "import os\n",
    "import time\n",
    "from ultralytics import YOLO\n",
    "import cv2"
   ],
   "id": "f00997f74754ddcd",
   "outputs": [],
   "execution_count": 2
  },
  {
   "metadata": {
    "ExecuteTime": {
     "end_time": "2025-01-30T11:32:48.431055Z",
     "start_time": "2025-01-30T11:32:41.759942Z"
    }
   },
   "cell_type": "code",
   "source": [
    "# Load the trained model\n",
    "model = YOLO(r\"F:\\University\\2_Year_02\\2_Year_02_Sem1\\0_Data_Science\\Component_1_Nelishka\\Yolo_11_x\\runs\\detect\\train\\weights\\best.pt\")\n",
    "\n",
    "# Directory containing images to be checked\n",
    "image_dir = r\"C:\\Users\\nelis\\Desktop\\labels\"\n",
    "\n",
    "# Fixed window size\n",
    "fixed_width, fixed_height = 800, 600\n",
    "\n",
    "# Iterate over all images in the directory\n",
    "for image_name in os.listdir(image_dir):\n",
    "    image_path = os.path.join(image_dir, image_name)\n",
    "\n",
    "    # Perform prediction\n",
    "    start_time = time.time()\n",
    "    results = model.predict(source=image_path, conf=0.25)\n",
    "    print(f\"Prediction for {image_name} took {time.time() - start_time:.2f} seconds\")\n",
    "\n",
    "    # Load the image\n",
    "    img = cv2.imread(image_path)\n",
    "\n",
    "    # Draw bounding boxes on the image\n",
    "    if results[0].boxes:\n",
    "        print(f\"Ingredients list detected in image: {image_name}\")\n",
    "        for box in results[0].boxes:\n",
    "            x1, y1, x2, y2 = map(int, box.xyxy[0].tolist())\n",
    "            cv2.rectangle(img, (x1, y1), (x2, y2), (255, 0, 0), 2)  # Blue box\n",
    "    else:\n",
    "        print(f\"No ingredients list detected in image: {image_name}\")\n",
    "\n",
    "    # Resize the image to fit within the fixed size while maintaining aspect ratio\n",
    "    h, w, _ = img.shape\n",
    "    scale = min(fixed_width / w, fixed_height / h)\n",
    "    resized_img = cv2.resize(img, (int(w * scale), int(h * scale)))\n",
    "\n",
    "    # Display the image using OpenCV\n",
    "    cv2.imshow(f\"Result - {image_name}\", resized_img)\n",
    "\n",
    "    # Wait for a key press to close the image window\n",
    "    cv2.waitKey(0)\n",
    "    cv2.destroyAllWindows()"
   ],
   "id": "8d95f8f50a11465a",
   "outputs": [
    {
     "name": "stdout",
     "output_type": "stream",
     "text": [
      "\n",
      "image 1/1 C:\\Users\\nelis\\Desktop\\labels\\WhatsApp Image 2024-11-16 at 20.28.06_08efc412.jpg: 640x480 1 ingredients, 210.8ms\n",
      "Speed: 7.6ms preprocess, 210.8ms inference, 260.0ms postprocess per image at shape (1, 3, 640, 480)\n",
      "Prediction for WhatsApp Image 2024-11-16 at 20.28.06_08efc412.jpg took 6.31 seconds\n",
      "Ingredients list detected in image: WhatsApp Image 2024-11-16 at 20.28.06_08efc412.jpg\n"
     ]
    },
    {
     "ename": "error",
     "evalue": "OpenCV(4.11.0) D:\\a\\opencv-python\\opencv-python\\opencv\\modules\\highgui\\src\\window.cpp:1301: error: (-2:Unspecified error) The function is not implemented. Rebuild the library with Windows, GTK+ 2.x or Cocoa support. If you are on Ubuntu or Debian, install libgtk2.0-dev and pkg-config, then re-run cmake or configure script in function 'cvShowImage'\n",
     "output_type": "error",
     "traceback": [
      "\u001B[1;31m---------------------------------------------------------------------------\u001B[0m",
      "\u001B[1;31merror\u001B[0m                                     Traceback (most recent call last)",
      "Cell \u001B[1;32mIn[3], line 37\u001B[0m\n\u001B[0;32m     34\u001B[0m resized_img \u001B[38;5;241m=\u001B[39m cv2\u001B[38;5;241m.\u001B[39mresize(img, (\u001B[38;5;28mint\u001B[39m(w \u001B[38;5;241m*\u001B[39m scale), \u001B[38;5;28mint\u001B[39m(h \u001B[38;5;241m*\u001B[39m scale)))\n\u001B[0;32m     36\u001B[0m \u001B[38;5;66;03m# Display the image using OpenCV\u001B[39;00m\n\u001B[1;32m---> 37\u001B[0m \u001B[43mcv2\u001B[49m\u001B[38;5;241;43m.\u001B[39;49m\u001B[43mimshow\u001B[49m\u001B[43m(\u001B[49m\u001B[38;5;124;43mf\u001B[39;49m\u001B[38;5;124;43m\"\u001B[39;49m\u001B[38;5;124;43mResult - \u001B[39;49m\u001B[38;5;132;43;01m{\u001B[39;49;00m\u001B[43mimage_name\u001B[49m\u001B[38;5;132;43;01m}\u001B[39;49;00m\u001B[38;5;124;43m\"\u001B[39;49m\u001B[43m,\u001B[49m\u001B[43m \u001B[49m\u001B[43mresized_img\u001B[49m\u001B[43m)\u001B[49m\n\u001B[0;32m     39\u001B[0m \u001B[38;5;66;03m# Wait for a key press to close the image window\u001B[39;00m\n\u001B[0;32m     40\u001B[0m cv2\u001B[38;5;241m.\u001B[39mwaitKey(\u001B[38;5;241m0\u001B[39m)\n",
      "File \u001B[1;32m~\\miniconda3\\envs\\MLConda\\Lib\\site-packages\\ultralytics\\utils\\patches.py:56\u001B[0m, in \u001B[0;36mimshow\u001B[1;34m(winname, mat)\u001B[0m\n\u001B[0;32m     48\u001B[0m \u001B[38;5;28;01mdef\u001B[39;00m \u001B[38;5;21mimshow\u001B[39m(winname: \u001B[38;5;28mstr\u001B[39m, mat: np\u001B[38;5;241m.\u001B[39mndarray):\n\u001B[0;32m     49\u001B[0m \u001B[38;5;250m    \u001B[39m\u001B[38;5;124;03m\"\"\"\u001B[39;00m\n\u001B[0;32m     50\u001B[0m \u001B[38;5;124;03m    Displays an image in the specified window.\u001B[39;00m\n\u001B[0;32m     51\u001B[0m \n\u001B[1;32m   (...)\u001B[0m\n\u001B[0;32m     54\u001B[0m \u001B[38;5;124;03m        mat (np.ndarray): Image to be shown.\u001B[39;00m\n\u001B[0;32m     55\u001B[0m \u001B[38;5;124;03m    \"\"\"\u001B[39;00m\n\u001B[1;32m---> 56\u001B[0m     \u001B[43m_imshow\u001B[49m\u001B[43m(\u001B[49m\u001B[43mwinname\u001B[49m\u001B[38;5;241;43m.\u001B[39;49m\u001B[43mencode\u001B[49m\u001B[43m(\u001B[49m\u001B[38;5;124;43m\"\u001B[39;49m\u001B[38;5;124;43municode_escape\u001B[39;49m\u001B[38;5;124;43m\"\u001B[39;49m\u001B[43m)\u001B[49m\u001B[38;5;241;43m.\u001B[39;49m\u001B[43mdecode\u001B[49m\u001B[43m(\u001B[49m\u001B[43m)\u001B[49m\u001B[43m,\u001B[49m\u001B[43m \u001B[49m\u001B[43mmat\u001B[49m\u001B[43m)\u001B[49m\n",
      "\u001B[1;31merror\u001B[0m: OpenCV(4.11.0) D:\\a\\opencv-python\\opencv-python\\opencv\\modules\\highgui\\src\\window.cpp:1301: error: (-2:Unspecified error) The function is not implemented. Rebuild the library with Windows, GTK+ 2.x or Cocoa support. If you are on Ubuntu or Debian, install libgtk2.0-dev and pkg-config, then re-run cmake or configure script in function 'cvShowImage'\n"
     ]
    }
   ],
   "execution_count": 3
  },
  {
   "metadata": {},
   "cell_type": "code",
   "outputs": [],
   "execution_count": null,
   "source": "",
   "id": "6031d954a24fdec4"
  }
 ],
 "metadata": {
  "kernelspec": {
   "display_name": "Python 3",
   "language": "python",
   "name": "python3"
  },
  "language_info": {
   "codemirror_mode": {
    "name": "ipython",
    "version": 2
   },
   "file_extension": ".py",
   "mimetype": "text/x-python",
   "name": "python",
   "nbconvert_exporter": "python",
   "pygments_lexer": "ipython2",
   "version": "2.7.6"
  }
 },
 "nbformat": 4,
 "nbformat_minor": 5
}
