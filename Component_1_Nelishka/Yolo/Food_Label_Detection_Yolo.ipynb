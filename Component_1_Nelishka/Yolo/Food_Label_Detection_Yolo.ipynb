{
 "cells": [
  {
   "cell_type": "code",
   "id": "initial_id",
   "metadata": {
    "collapsed": true
   },
   "source": [
    "import ultralytics\n",
    "\n",
    "# Check YOLO version\n",
    "print(ultralytics.__version__)"
   ],
   "outputs": [],
   "execution_count": null
  },
  {
   "metadata": {},
   "cell_type": "code",
   "source": "from ultralytics import YOLO",
   "id": "e263569aaa5793ef",
   "outputs": [],
   "execution_count": null
  },
  {
   "metadata": {},
   "cell_type": "code",
   "source": "YOLO().info()",
   "id": "88af6512989769b2",
   "outputs": [],
   "execution_count": null
  },
  {
   "metadata": {},
   "cell_type": "code",
   "source": [
    "# Initialize model\n",
    "model = YOLO('yolov8n.pt')"
   ],
   "id": "95477eab753ae2e1",
   "outputs": [],
   "execution_count": null
  },
  {
   "metadata": {},
   "cell_type": "code",
   "source": [
    "import torch\n",
    "\n",
    "# Check if CUDA is available\n",
    "if not torch.cuda.is_available():\n",
    "    print(\"CUDA not available.\")\n",
    "else:\n",
    "    print(\"CUDA is available. GPU count:\", torch.cuda.device_count())\n",
    "    print(\"GPU name:\", torch.cuda.get_device_name(0))"
   ],
   "id": "6fe1ee56a018d064",
   "outputs": [],
   "execution_count": null
  },
  {
   "metadata": {},
   "cell_type": "code",
   "source": [
    "import torch\n",
    "print(\"Torch version:\", torch.__version__)\n",
    "print(\"CUDA available:\", torch.cuda.is_available())\n",
    "print(\"CUDA version:\", torch.version.cuda)\n",
    "print(\"Device name:\", torch.cuda.get_device_name(0))"
   ],
   "id": "5d9ea7e2b7381c04",
   "outputs": [],
   "execution_count": null
  },
  {
   "metadata": {},
   "cell_type": "code",
   "source": [
    "# Find directory of the current notebook\n",
    "# cd /d F:\\University\\2_Year_02\\2_Year_02_Sem1\\0_Data_Science\\Component_1_Nelishka\\Yolo"
   ],
   "id": "d6516ec7f9ac5e1b",
   "outputs": [],
   "execution_count": null
  },
  {
   "metadata": {},
   "cell_type": "code",
   "source": [
    "# Get the environment \n",
    "# conda activate MLConda"
   ],
   "id": "198676cf173f4a8b",
   "outputs": [],
   "execution_count": null
  },
  {
   "metadata": {},
   "cell_type": "markdown",
   "source": "### Train the model",
   "id": "ff17ea81d2e76adf"
  },
  {
   "metadata": {},
   "cell_type": "code",
   "source": [
    "# temporarily set this environment variable to allow the program to proceed:\n",
    "# set KMP_DUPLICATE_LIB_OK=TRUE"
   ],
   "id": "9a7db575f4292971",
   "outputs": [],
   "execution_count": null
  },
  {
   "metadata": {},
   "cell_type": "code",
   "source": [
    "# Dataset path\n",
    "data=r\"F:\\University\\2_Year_02\\2_Year_02_Sem1\\0_Data_Science\\Component_1_Nelishka\\Yolo\\data.yaml\","
   ],
   "id": "fd01eb049d9a8939",
   "outputs": [],
   "execution_count": null
  },
  {
   "metadata": {},
   "cell_type": "code",
   "source": [
    "# Train command using GPU\n",
    "#yolo task=detect mode=train model=yolov8n.pt data=F:\\University\\2_Year_02\\2_Year_02_Sem1\\0_Data_Science\\Component_1_Nelishka\\Yolo\\data.yaml epochs=30 batch=16 imgsz=640 device=0 workers=0\n"
   ],
   "id": "90abea766a651cec",
   "outputs": [],
   "execution_count": null
  },
  {
   "metadata": {},
   "cell_type": "markdown",
   "source": "### Test the model",
   "id": "a1b469e9712121c9"
  },
  {
   "metadata": {},
   "cell_type": "code",
   "source": "from ultralytics import YOLO",
   "id": "62f4c8d15c47702",
   "outputs": [],
   "execution_count": null
  },
  {
   "metadata": {},
   "cell_type": "code",
   "source": [
    "# Load the trained model\n",
    "detector_model = YOLO(r\"F:\\University\\2_Year_02\\2_Year_02_Sem1\\0_Data_Science\\Component_1_Nelishka\\Yolo\\runs\\detect\\train\\weights\\best.pt\")\n",
    "\n",
    "# Perform inference on test images\n",
    "results = detector_model.predict(source=r\"F:\\University\\2_Year_02\\2_Year_02_Sem1\\0_Data_Science\\Component_1_Nelishka\\Yolo\\dataset\\images\\test\", save=True, conf=0.25)\n",
    "\n",
    "# Print results summary\n",
    "print(results)"
   ],
   "id": "1c2901d5e24626d5",
   "outputs": [],
   "execution_count": null
  },
  {
   "metadata": {},
   "cell_type": "markdown",
   "source": "### Simple test program",
   "id": "98b9a46baf53e66b"
  },
  {
   "metadata": {
    "ExecuteTime": {
     "end_time": "2025-01-15T06:34:11.451230Z",
     "start_time": "2025-01-15T06:34:09.332878Z"
    }
   },
   "cell_type": "code",
   "source": [
    "import os\n",
    "import time\n",
    "from ultralytics import YOLO\n",
    "import cv2"
   ],
   "id": "fcf9d1fecbabfbea",
   "outputs": [],
   "execution_count": 1
  },
  {
   "metadata": {
    "ExecuteTime": {
     "end_time": "2025-01-15T10:24:09.086903Z",
     "start_time": "2025-01-15T10:23:50.539751Z"
    }
   },
   "cell_type": "code",
   "source": [
    "# Load the trained model\n",
    "model = YOLO(r\"F:\\University\\2_Year_02\\2_Year_02_Sem1\\0_Data_Science\\Component_1_Nelishka\\Yolo\\runs\\detect\\train\\weights\\best.pt\")\n",
    "\n",
    "# Directory containing images to be checked\n",
    "image_dir = r\"C:\\Users\\nelis\\Desktop\\labels\"\n",
    "\n",
    "# Iterate over all images in the directory\n",
    "for image_name in os.listdir(image_dir):\n",
    "    image_path = os.path.join(image_dir, image_name)\n",
    "\n",
    "    # Perform prediction\n",
    "    start_time = time.time()\n",
    "    results = model.predict(source=image_path, conf=0.25)\n",
    "    print(f\"Prediction for {image_name} took {time.time() - start_time:.2f} seconds\")\n",
    "\n",
    "    # Load the image\n",
    "    img = cv2.imread(image_path)\n",
    "\n",
    "    # Draw bounding boxes on the image\n",
    "    if results[0].boxes:\n",
    "        print(f\"Ingredients list detected in image: {image_name}\")\n",
    "        for box in results[0].boxes:\n",
    "            x1, y1, x2, y2 = map(int, box.xyxy[0].tolist())\n",
    "            cv2.rectangle(img, (x1, y1), (x2, y2), (255, 0, 0), 2)  # Blue box\n",
    "    else:\n",
    "        print(f\"No ingredients list detected in image: {image_name}\")\n",
    "\n",
    "    # Display the image using OpenCV\n",
    "    cv2.imshow(image_name, img)\n",
    "\n",
    "    # Wait for a key press to close the image window\n",
    "    cv2.waitKey(0)\n",
    "    cv2.destroyAllWindows()\n"
   ],
   "id": "2f654f3d49385303",
   "outputs": [
    {
     "name": "stdout",
     "output_type": "stream",
     "text": [
      "\n",
      "image 1/1 C:\\Users\\nelis\\Desktop\\labels\\download (1).jpeg: 640x640 1 ingredients, 23.0ms\n",
      "Speed: 5.0ms preprocess, 23.0ms inference, 1.0ms postprocess per image at shape (1, 3, 640, 640)\n",
      "Prediction for download (1).jpeg took 0.15 seconds\n",
      "Ingredients list detected in image: download (1).jpeg\n"
     ]
    }
   ],
   "execution_count": 14
  },
  {
   "metadata": {},
   "cell_type": "code",
   "outputs": [],
   "execution_count": null,
   "source": "",
   "id": "91dfd960a1809bc4"
  }
 ],
 "metadata": {
  "kernelspec": {
   "display_name": "Python 3",
   "language": "python",
   "name": "python3"
  },
  "language_info": {
   "codemirror_mode": {
    "name": "ipython",
    "version": 2
   },
   "file_extension": ".py",
   "mimetype": "text/x-python",
   "name": "python",
   "nbconvert_exporter": "python",
   "pygments_lexer": "ipython2",
   "version": "2.7.6"
  }
 },
 "nbformat": 4,
 "nbformat_minor": 5
}
