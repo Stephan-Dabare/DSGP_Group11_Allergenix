{
 "cells": [
  {
   "cell_type": "code",
   "id": "4772e0d57c79116c",
   "metadata": {
    "ExecuteTime": {
     "end_time": "2024-12-26T19:42:06.746013Z",
     "start_time": "2024-12-26T19:42:04.132679Z"
    }
   },
   "source": [
    "import tensorflow as tf\n",
    "from tensorflow.keras.applications import MobileNet\n",
    "from tensorflow.keras.models import Model\n",
    "from tensorflow.keras.layers import Dense, GlobalAveragePooling2D\n",
    "from tensorflow.keras.preprocessing.image import ImageDataGenerator"
   ],
   "outputs": [],
   "execution_count": 1
  },
  {
   "metadata": {
    "ExecuteTime": {
     "end_time": "2024-12-26T19:42:12.661591Z",
     "start_time": "2024-12-26T19:42:08.987005Z"
    }
   },
   "cell_type": "code",
   "source": [
    "# Paths\n",
    "DATASET_PATH = 'Dataset'\n",
    "TEST_DATASET_PATH = 'TestDataset'\n",
    "# Parameters\n",
    "IMAGE_SIZE = (224, 224)  # Input size for MobileNet\n",
    "BATCH_SIZE = 32\n",
    "EPOCHS = 20\n",
    "# Load the MobileNet model pre-trained on ImageNet\n",
    "base_model = MobileNet(weights='imagenet', include_top=False, input_shape=(IMAGE_SIZE[0], IMAGE_SIZE[1], 3))"
   ],
   "id": "e7351b9f8f44767d",
   "outputs": [
    {
     "name": "stdout",
     "output_type": "stream",
     "text": [
      "Downloading data from https://storage.googleapis.com/tensorflow/keras-applications/mobilenet/mobilenet_1_0_224_tf_no_top.h5\n",
      "\u001B[1m17225924/17225924\u001B[0m \u001B[32m━━━━━━━━━━━━━━━━━━━━\u001B[0m\u001B[37m\u001B[0m \u001B[1m3s\u001B[0m 0us/step\n"
     ]
    }
   ],
   "execution_count": 2
  },
  {
   "metadata": {
    "ExecuteTime": {
     "end_time": "2024-12-26T19:42:17.023355Z",
     "start_time": "2024-12-26T19:42:17.003093Z"
    }
   },
   "cell_type": "code",
   "source": [
    "\n",
    "# Freeze the base model layers\n",
    "base_model.trainable = False\n",
    "# Add custom layers for binary classification\n",
    "x = base_model.output\n",
    "x = GlobalAveragePooling2D()(x)\n",
    "x = Dense(1024, activation='relu')(x)\n",
    "output = Dense(1, activation='sigmoid')(x)  # Binary classification output layer"
   ],
   "id": "1c85c0e43e0b0e2",
   "outputs": [],
   "execution_count": 3
  },
  {
   "metadata": {
    "ExecuteTime": {
     "end_time": "2024-12-26T19:42:18.872113Z",
     "start_time": "2024-12-26T19:42:18.792774Z"
    }
   },
   "cell_type": "code",
   "source": [
    "\n",
    "# Create the model\n",
    "model = Model(inputs=base_model.input, outputs=output)\n",
    "# Compile the model\n",
    "model.compile(optimizer='adam', loss='binary_crossentropy', metrics=['accuracy'])\n",
    "# Preprocessing for training and validation\n",
    "datagen = ImageDataGenerator(\n",
    "    validation_split=0.1  # 10% for validation\n",
    ")\n",
    "# Training set\n",
    "train_generator = datagen.flow_from_directory(\n",
    "    DATASET_PATH,\n",
    "    target_size=IMAGE_SIZE,\n",
    "    batch_size=BATCH_SIZE,\n",
    "    class_mode='binary',  # Binary classification\n",
    "    subset='training'\n",
    ")\n",
    "\n",
    "# Validation set\n",
    "validation_generator = datagen.flow_from_directory(\n",
    "    DATASET_PATH,\n",
    "    target_size=IMAGE_SIZE,\n",
    "    batch_size=BATCH_SIZE,\n",
    "    class_mode='binary',  # Binary classification\n",
    "    subset='validation'\n",
    ")\n",
    "\n",
    "# Test set\n",
    "test_datagen = ImageDataGenerator(rescale=1.0 / 255)\n",
    "test_generator = test_datagen.flow_from_directory(\n",
    "    TEST_DATASET_PATH,\n",
    "    target_size=IMAGE_SIZE,\n",
    "    batch_size=BATCH_SIZE,\n",
    "    class_mode='binary',  # Binary classification\n",
    "    shuffle=False\n",
    ")"
   ],
   "id": "1fca46950f8f4dd7",
   "outputs": [
    {
     "name": "stdout",
     "output_type": "stream",
     "text": [
      "Found 1039 images belonging to 2 classes.\n",
      "Found 114 images belonging to 2 classes.\n",
      "Found 352 images belonging to 2 classes.\n"
     ]
    }
   ],
   "execution_count": 4
  },
  {
   "metadata": {
    "ExecuteTime": {
     "end_time": "2024-12-26T19:49:11.369469Z",
     "start_time": "2024-12-26T19:42:22.469200Z"
    }
   },
   "cell_type": "code",
   "source": [
    "# Train the model\n",
    "history = model.fit(\n",
    "    train_generator,\n",
    "    epochs=EPOCHS,\n",
    "    validation_data=validation_generator\n",
    ")\n",
    "# Unfreeze some base model layers for fine-tuning\n",
    "base_model.trainable = True\n",
    "fine_tune_at = 100  # Unfreeze layers from this point\n",
    "\n",
    "for layer in base_model.layers[:fine_tune_at]:\n",
    "    layer.trainable = False\n",
    "\n",
    "# Recompile the model for fine-tuning\n",
    "model.compile(optimizer=tf.keras.optimizers.Adam(learning_rate=1e-5), loss='binary_crossentropy', metrics=['accuracy'])\n",
    "\n",
    "# Fine-tune the model\n",
    "history_fine = model.fit(\n",
    "    train_generator,\n",
    "    epochs=10,  # Adjust epochs for fine-tuning\n",
    "    validation_data=validation_generator\n",
    ")\n",
    "# Evaluate the model on the test set\n",
    "test_loss, test_accuracy = model.evaluate(test_generator)\n",
    "print(f\"Test Loss: {test_loss}\")\n",
    "print(f\"Test Accuracy: {test_accuracy}\")"
   ],
   "id": "1cc0a5411ce91159",
   "outputs": [
    {
     "name": "stderr",
     "output_type": "stream",
     "text": [
      "C:\\Users\\nelis\\miniconda3\\envs\\MLConda\\Lib\\site-packages\\keras\\src\\trainers\\data_adapters\\py_dataset_adapter.py:121: UserWarning: Your `PyDataset` class should call `super().__init__(**kwargs)` in its constructor. `**kwargs` can include `workers`, `use_multiprocessing`, `max_queue_size`. Do not pass these arguments to `fit()`, as they will be ignored.\n",
      "  self._warn_if_super_not_called()\n"
     ]
    },
    {
     "name": "stdout",
     "output_type": "stream",
     "text": [
      "Epoch 1/20\n",
      "\u001B[1m33/33\u001B[0m \u001B[32m━━━━━━━━━━━━━━━━━━━━\u001B[0m\u001B[37m\u001B[0m \u001B[1m21s\u001B[0m 579ms/step - accuracy: 0.9208 - loss: 0.3062 - val_accuracy: 0.9737 - val_loss: 0.0599\n",
      "Epoch 2/20\n",
      "\u001B[1m33/33\u001B[0m \u001B[32m━━━━━━━━━━━━━━━━━━━━\u001B[0m\u001B[37m\u001B[0m \u001B[1m13s\u001B[0m 397ms/step - accuracy: 0.9888 - loss: 0.0404 - val_accuracy: 0.9825 - val_loss: 0.0286\n",
      "Epoch 3/20\n",
      "\u001B[1m33/33\u001B[0m \u001B[32m━━━━━━━━━━━━━━━━━━━━\u001B[0m\u001B[37m\u001B[0m \u001B[1m16s\u001B[0m 475ms/step - accuracy: 0.9951 - loss: 0.0255 - val_accuracy: 0.9912 - val_loss: 0.0268\n",
      "Epoch 4/20\n",
      "\u001B[1m33/33\u001B[0m \u001B[32m━━━━━━━━━━━━━━━━━━━━\u001B[0m\u001B[37m\u001B[0m \u001B[1m13s\u001B[0m 383ms/step - accuracy: 0.9951 - loss: 0.0163 - val_accuracy: 0.9912 - val_loss: 0.0288\n",
      "Epoch 5/20\n",
      "\u001B[1m33/33\u001B[0m \u001B[32m━━━━━━━━━━━━━━━━━━━━\u001B[0m\u001B[37m\u001B[0m \u001B[1m13s\u001B[0m 388ms/step - accuracy: 0.9983 - loss: 0.0052 - val_accuracy: 0.9825 - val_loss: 0.0299\n",
      "Epoch 6/20\n",
      "\u001B[1m33/33\u001B[0m \u001B[32m━━━━━━━━━━━━━━━━━━━━\u001B[0m\u001B[37m\u001B[0m \u001B[1m13s\u001B[0m 390ms/step - accuracy: 1.0000 - loss: 0.0016 - val_accuracy: 0.9825 - val_loss: 0.0256\n",
      "Epoch 7/20\n",
      "\u001B[1m33/33\u001B[0m \u001B[32m━━━━━━━━━━━━━━━━━━━━\u001B[0m\u001B[37m\u001B[0m \u001B[1m13s\u001B[0m 382ms/step - accuracy: 1.0000 - loss: 0.0010 - val_accuracy: 0.9825 - val_loss: 0.0187\n",
      "Epoch 8/20\n",
      "\u001B[1m33/33\u001B[0m \u001B[32m━━━━━━━━━━━━━━━━━━━━\u001B[0m\u001B[37m\u001B[0m \u001B[1m13s\u001B[0m 385ms/step - accuracy: 1.0000 - loss: 9.9181e-04 - val_accuracy: 0.9825 - val_loss: 0.0240\n",
      "Epoch 9/20\n",
      "\u001B[1m33/33\u001B[0m \u001B[32m━━━━━━━━━━━━━━━━━━━━\u001B[0m\u001B[37m\u001B[0m \u001B[1m13s\u001B[0m 385ms/step - accuracy: 1.0000 - loss: 7.8038e-04 - val_accuracy: 0.9825 - val_loss: 0.0259\n",
      "Epoch 10/20\n",
      "\u001B[1m33/33\u001B[0m \u001B[32m━━━━━━━━━━━━━━━━━━━━\u001B[0m\u001B[37m\u001B[0m \u001B[1m13s\u001B[0m 389ms/step - accuracy: 1.0000 - loss: 7.0060e-04 - val_accuracy: 0.9825 - val_loss: 0.0234\n",
      "Epoch 11/20\n",
      "\u001B[1m33/33\u001B[0m \u001B[32m━━━━━━━━━━━━━━━━━━━━\u001B[0m\u001B[37m\u001B[0m \u001B[1m13s\u001B[0m 385ms/step - accuracy: 1.0000 - loss: 5.7756e-04 - val_accuracy: 0.9825 - val_loss: 0.0297\n",
      "Epoch 12/20\n",
      "\u001B[1m33/33\u001B[0m \u001B[32m━━━━━━━━━━━━━━━━━━━━\u001B[0m\u001B[37m\u001B[0m \u001B[1m13s\u001B[0m 390ms/step - accuracy: 1.0000 - loss: 5.0386e-04 - val_accuracy: 0.9825 - val_loss: 0.0353\n",
      "Epoch 13/20\n",
      "\u001B[1m33/33\u001B[0m \u001B[32m━━━━━━━━━━━━━━━━━━━━\u001B[0m\u001B[37m\u001B[0m \u001B[1m13s\u001B[0m 388ms/step - accuracy: 1.0000 - loss: 4.2980e-04 - val_accuracy: 0.9825 - val_loss: 0.0352\n",
      "Epoch 14/20\n",
      "\u001B[1m33/33\u001B[0m \u001B[32m━━━━━━━━━━━━━━━━━━━━\u001B[0m\u001B[37m\u001B[0m \u001B[1m13s\u001B[0m 404ms/step - accuracy: 1.0000 - loss: 4.2414e-04 - val_accuracy: 0.9737 - val_loss: 0.0407\n",
      "Epoch 15/20\n",
      "\u001B[1m33/33\u001B[0m \u001B[32m━━━━━━━━━━━━━━━━━━━━\u001B[0m\u001B[37m\u001B[0m \u001B[1m13s\u001B[0m 395ms/step - accuracy: 1.0000 - loss: 3.3790e-04 - val_accuracy: 0.9825 - val_loss: 0.0307\n",
      "Epoch 16/20\n",
      "\u001B[1m33/33\u001B[0m \u001B[32m━━━━━━━━━━━━━━━━━━━━\u001B[0m\u001B[37m\u001B[0m \u001B[1m13s\u001B[0m 394ms/step - accuracy: 1.0000 - loss: 2.9528e-04 - val_accuracy: 0.9825 - val_loss: 0.0309\n",
      "Epoch 17/20\n",
      "\u001B[1m33/33\u001B[0m \u001B[32m━━━━━━━━━━━━━━━━━━━━\u001B[0m\u001B[37m\u001B[0m \u001B[1m13s\u001B[0m 391ms/step - accuracy: 1.0000 - loss: 2.1522e-04 - val_accuracy: 0.9825 - val_loss: 0.0352\n",
      "Epoch 18/20\n",
      "\u001B[1m33/33\u001B[0m \u001B[32m━━━━━━━━━━━━━━━━━━━━\u001B[0m\u001B[37m\u001B[0m \u001B[1m13s\u001B[0m 391ms/step - accuracy: 1.0000 - loss: 3.3168e-04 - val_accuracy: 0.9825 - val_loss: 0.0408\n",
      "Epoch 19/20\n",
      "\u001B[1m33/33\u001B[0m \u001B[32m━━━━━━━━━━━━━━━━━━━━\u001B[0m\u001B[37m\u001B[0m \u001B[1m13s\u001B[0m 390ms/step - accuracy: 1.0000 - loss: 1.9279e-04 - val_accuracy: 0.9825 - val_loss: 0.0355\n",
      "Epoch 20/20\n",
      "\u001B[1m33/33\u001B[0m \u001B[32m━━━━━━━━━━━━━━━━━━━━\u001B[0m\u001B[37m\u001B[0m \u001B[1m13s\u001B[0m 388ms/step - accuracy: 1.0000 - loss: 1.6030e-04 - val_accuracy: 0.9825 - val_loss: 0.0351\n",
      "Epoch 1/10\n",
      "\u001B[1m33/33\u001B[0m \u001B[32m━━━━━━━━━━━━━━━━━━━━\u001B[0m\u001B[37m\u001B[0m \u001B[1m15s\u001B[0m 408ms/step - accuracy: 1.0000 - loss: 2.0515e-04 - val_accuracy: 0.9825 - val_loss: 0.0387\n",
      "Epoch 2/10\n",
      "\u001B[1m33/33\u001B[0m \u001B[32m━━━━━━━━━━━━━━━━━━━━\u001B[0m\u001B[37m\u001B[0m \u001B[1m13s\u001B[0m 397ms/step - accuracy: 1.0000 - loss: 1.3745e-04 - val_accuracy: 0.9825 - val_loss: 0.0343\n",
      "Epoch 3/10\n",
      "\u001B[1m33/33\u001B[0m \u001B[32m━━━━━━━━━━━━━━━━━━━━\u001B[0m\u001B[37m\u001B[0m \u001B[1m13s\u001B[0m 389ms/step - accuracy: 1.0000 - loss: 1.2871e-04 - val_accuracy: 0.9825 - val_loss: 0.0367\n",
      "Epoch 4/10\n",
      "\u001B[1m33/33\u001B[0m \u001B[32m━━━━━━━━━━━━━━━━━━━━\u001B[0m\u001B[37m\u001B[0m \u001B[1m14s\u001B[0m 422ms/step - accuracy: 1.0000 - loss: 1.5148e-04 - val_accuracy: 0.9825 - val_loss: 0.0369\n",
      "Epoch 5/10\n",
      "\u001B[1m33/33\u001B[0m \u001B[32m━━━━━━━━━━━━━━━━━━━━\u001B[0m\u001B[37m\u001B[0m \u001B[1m13s\u001B[0m 394ms/step - accuracy: 1.0000 - loss: 1.4750e-04 - val_accuracy: 0.9825 - val_loss: 0.0362\n",
      "Epoch 6/10\n",
      "\u001B[1m33/33\u001B[0m \u001B[32m━━━━━━━━━━━━━━━━━━━━\u001B[0m\u001B[37m\u001B[0m \u001B[1m13s\u001B[0m 392ms/step - accuracy: 1.0000 - loss: 1.1134e-04 - val_accuracy: 0.9825 - val_loss: 0.0376\n",
      "Epoch 7/10\n",
      "\u001B[1m33/33\u001B[0m \u001B[32m━━━━━━━━━━━━━━━━━━━━\u001B[0m\u001B[37m\u001B[0m \u001B[1m13s\u001B[0m 390ms/step - accuracy: 1.0000 - loss: 1.4255e-04 - val_accuracy: 0.9825 - val_loss: 0.0372\n",
      "Epoch 8/10\n",
      "\u001B[1m33/33\u001B[0m \u001B[32m━━━━━━━━━━━━━━━━━━━━\u001B[0m\u001B[37m\u001B[0m \u001B[1m13s\u001B[0m 393ms/step - accuracy: 1.0000 - loss: 1.2889e-04 - val_accuracy: 0.9825 - val_loss: 0.0401\n",
      "Epoch 9/10\n",
      "\u001B[1m33/33\u001B[0m \u001B[32m━━━━━━━━━━━━━━━━━━━━\u001B[0m\u001B[37m\u001B[0m \u001B[1m13s\u001B[0m 397ms/step - accuracy: 1.0000 - loss: 1.4747e-04 - val_accuracy: 0.9825 - val_loss: 0.0372\n",
      "Epoch 10/10\n",
      "\u001B[1m33/33\u001B[0m \u001B[32m━━━━━━━━━━━━━━━━━━━━\u001B[0m\u001B[37m\u001B[0m \u001B[1m13s\u001B[0m 403ms/step - accuracy: 1.0000 - loss: 1.1540e-04 - val_accuracy: 0.9825 - val_loss: 0.0377\n",
      "\u001B[1m11/11\u001B[0m \u001B[32m━━━━━━━━━━━━━━━━━━━━\u001B[0m\u001B[37m\u001B[0m \u001B[1m5s\u001B[0m 501ms/step - accuracy: 0.8983 - loss: 0.2720\n",
      "Test Loss: 0.34728842973709106\n",
      "Test Accuracy: 0.8835227489471436\n"
     ]
    }
   ],
   "execution_count": 5
  },
  {
   "metadata": {
    "ExecuteTime": {
     "end_time": "2024-12-26T19:49:45.099922Z",
     "start_time": "2024-12-26T19:49:40.814311Z"
    }
   },
   "cell_type": "code",
   "source": [
    "# Make predictions on the test set\n",
    "predictions = model.predict(test_generator)\n",
    "\n",
    "# Convert predictions to binary labels\n",
    "predicted_classes = (predictions > 0.5).astype(\"int32\")\n",
    "true_classes = test_generator.classes\n",
    "class_labels = list(test_generator.class_indices.keys())"
   ],
   "id": "5fba428ddfc55660",
   "outputs": [
    {
     "name": "stdout",
     "output_type": "stream",
     "text": [
      "\u001B[1m11/11\u001B[0m \u001B[32m━━━━━━━━━━━━━━━━━━━━\u001B[0m\u001B[37m\u001B[0m \u001B[1m4s\u001B[0m 332ms/step\n"
     ]
    }
   ],
   "execution_count": 6
  },
  {
   "metadata": {
    "ExecuteTime": {
     "end_time": "2024-12-26T19:49:50.482263Z",
     "start_time": "2024-12-26T19:49:50.344211Z"
    }
   },
   "cell_type": "code",
   "source": [
    "\n",
    "# Display some results\n",
    "print(\"\\nSample Predictions:\")\n",
    "for i in range(10):  # Display results for the first 10 test samples\n",
    "    print(f\"True: {true_classes[i]}, Predicted: {predicted_classes[i][0]}\")\n",
    "# Classification report and confusion matrix\n",
    "from sklearn.metrics import classification_report, confusion_matrix\n",
    "import seaborn as sns\n",
    "import matplotlib.pyplot as plt\n",
    "\n",
    "# Classification report\n",
    "print(\"\\nClassification Report:\")\n",
    "print(classification_report(true_classes, predicted_classes, target_names=class_labels))"
   ],
   "id": "70ad7216836a6f03",
   "outputs": [
    {
     "name": "stdout",
     "output_type": "stream",
     "text": [
      "\n",
      "Sample Predictions:\n",
      "True: 0, Predicted: 0\n",
      "True: 0, Predicted: 0\n",
      "True: 0, Predicted: 0\n",
      "True: 0, Predicted: 0\n",
      "True: 0, Predicted: 0\n",
      "True: 0, Predicted: 0\n",
      "True: 0, Predicted: 0\n",
      "True: 0, Predicted: 0\n",
      "True: 0, Predicted: 0\n",
      "True: 0, Predicted: 0\n",
      "\n",
      "Classification Report:\n",
      "              precision    recall  f1-score   support\n",
      "\n",
      "       label       1.00      0.88      0.94       345\n",
      "    no_label       0.15      1.00      0.25         7\n",
      "\n",
      "    accuracy                           0.88       352\n",
      "   macro avg       0.57      0.94      0.60       352\n",
      "weighted avg       0.98      0.88      0.92       352\n",
      "\n"
     ]
    }
   ],
   "execution_count": 7
  },
  {
   "metadata": {
    "collapsed": true,
    "ExecuteTime": {
     "end_time": "2024-12-26T19:50:18.889534Z",
     "start_time": "2024-12-26T19:50:18.643430Z"
    }
   },
   "cell_type": "code",
   "source": [
    "\n",
    "# Confusion matrix\n",
    "conf_matrix = confusion_matrix(true_classes, predicted_classes)\n",
    "plt.figure(figsize=(8, 6))\n",
    "sns.heatmap(conf_matrix, annot=True, fmt='d', cmap='Blues', xticklabels=class_labels, yticklabels=class_labels)\n",
    "plt.xlabel('Predicted')\n",
    "plt.ylabel('True')\n",
    "plt.title('Confusion Matrix')\n",
    "plt.show()"
   ],
   "id": "initial_id",
   "outputs": [
    {
     "data": {
      "text/plain": [
       "<Figure size 800x600 with 2 Axes>"
      ],
      "image/png": "[encoded data removed]"
     },
     "metadata": {},
     "output_type": "display_data"
    }
   ],
   "execution_count": 8
  }
 ],
 "metadata": {
  "kernelspec": {
   "display_name": "Python 3",
   "language": "python",
   "name": "python3"
  },
  "language_info": {
   "codemirror_mode": {
    "name": "ipython",
    "version": 2
   },
   "file_extension": ".py",
   "mimetype": "text/x-python",
   "name": "python",
   "nbconvert_exporter": "python",
   "pygments_lexer": "ipython2",
   "version": "2.7.6"
  }
 },
 "nbformat": 4,
 "nbformat_minor": 5
}
