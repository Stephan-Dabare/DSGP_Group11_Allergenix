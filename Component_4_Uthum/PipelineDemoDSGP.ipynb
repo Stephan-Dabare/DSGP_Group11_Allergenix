{
 "cells": [
  {
   "cell_type": "code",
   "id": "initial_id",
   "metadata": {
    "collapsed": true,
    "ExecuteTime": {
     "end_time": "2024-12-25T15:33:11.303250Z",
     "start_time": "2024-12-25T15:33:05.815423Z"
    }
   },
   "source": [
    "# Import libraries\n",
    "import pandas as pd\n",
    "import numpy as np\n",
    "import nltk\n",
    "from nltk.corpus import stopwords\n",
    "nltk.download('stopwords')"
   ],
   "outputs": [
    {
     "name": "stderr",
     "output_type": "stream",
     "text": [
      "[nltk_data] Downloading package stopwords to C:\\Users\\My\n",
      "[nltk_data]     Account\\AppData\\Roaming\\nltk_data...\n",
      "[nltk_data]   Package stopwords is already up-to-date!\n"
     ]
    },
    {
     "data": {
      "text/plain": [
       "True"
      ]
     },
     "execution_count": 1,
     "metadata": {},
     "output_type": "execute_result"
    }
   ],
   "execution_count": 1
  },
  {
   "metadata": {
    "ExecuteTime": {
     "end_time": "2024-12-25T15:33:14.774105Z",
     "start_time": "2024-12-25T15:33:14.457333Z"
    }
   },
   "cell_type": "code",
   "source": [
    "# Load the dataset from Google Drive\n",
    "file_path = 'data/product_info.csv'\n",
    "data = pd.read_csv(file_path)"
   ],
   "id": "ebfb2c8322b9e60b",
   "outputs": [],
   "execution_count": 2
  },
  {
   "metadata": {
    "ExecuteTime": {
     "end_time": "2024-12-25T15:33:17.832307Z",
     "start_time": "2024-12-25T15:33:17.823022Z"
    }
   },
   "cell_type": "code",
   "source": "data.columns",
   "id": "234d19be8ef1ec6f",
   "outputs": [
    {
     "data": {
      "text/plain": [
       "Index(['product_id', 'product_name', 'brand_id', 'brand_name', 'loves_count',\n",
       "       'rating', 'reviews', 'size', 'variation_type', 'variation_value',\n",
       "       'variation_desc', 'ingredients', 'price_usd', 'value_price_usd',\n",
       "       'sale_price_usd', 'limited_edition', 'new', 'online_only',\n",
       "       'out_of_stock', 'sephora_exclusive', 'highlights', 'primary_category',\n",
       "       'secondary_category', 'tertiary_category', 'child_count',\n",
       "       'child_max_price', 'child_min_price'],\n",
       "      dtype='object')"
      ]
     },
     "execution_count": 3,
     "metadata": {},
     "output_type": "execute_result"
    }
   ],
   "execution_count": 3
  },
  {
   "metadata": {
    "ExecuteTime": {
     "end_time": "2024-12-25T15:33:21.106915Z",
     "start_time": "2024-12-25T15:33:21.092390Z"
    }
   },
   "cell_type": "code",
   "source": "data['tertiary_category'].value_counts()",
   "id": "32ce29f82f0be396",
   "outputs": [
    {
     "data": {
      "text/plain": [
       "tertiary_category\n",
       "Perfume                      568\n",
       "Moisturizers                 386\n",
       "Face Serums                  379\n",
       "Rollerballs & Travel Size    287\n",
       "Hair Styling Products        255\n",
       "                            ... \n",
       "Under-Eye Concealer            3\n",
       "Sunscreen                      2\n",
       "Hair Thinning & Hair Loss      2\n",
       "Damaged Hair                   1\n",
       "Manicure & Pedicure Tools      1\n",
       "Name: count, Length: 118, dtype: int64"
      ]
     },
     "execution_count": 4,
     "metadata": {},
     "output_type": "execute_result"
    }
   ],
   "execution_count": 4
  },
  {
   "metadata": {
    "ExecuteTime": {
     "end_time": "2024-12-25T15:33:29.287425Z",
     "start_time": "2024-12-25T15:33:29.271665Z"
    }
   },
   "cell_type": "code",
   "source": "data['primary_category'].value_counts()",
   "id": "210393c8005a7bfb",
   "outputs": [
    {
     "data": {
      "text/plain": [
       "primary_category\n",
       "Skincare           2420\n",
       "Makeup             2369\n",
       "Hair               1464\n",
       "Fragrance          1432\n",
       "Bath & Body         405\n",
       "Mini Size           288\n",
       "Men                  60\n",
       "Tools & Brushes      52\n",
       "Gifts                 4\n",
       "Name: count, dtype: int64"
      ]
     },
     "execution_count": 5,
     "metadata": {},
     "output_type": "execute_result"
    }
   ],
   "execution_count": 5
  },
  {
   "metadata": {
    "ExecuteTime": {
     "end_time": "2024-12-25T15:33:37.231652Z",
     "start_time": "2024-12-25T15:33:37.209166Z"
    }
   },
   "cell_type": "code",
   "source": [
    "# Filter relevant columns and categories\n",
    "filtered_data = data[data['primary_category'].isin(['Skincare', 'Makeup', 'Hair', 'Fragrance'])]\n",
    "filtered_data = filtered_data[['ingredients', 'primary_category']]\n",
    "\n",
    "# Drop rows with missing ingredients\n",
    "filtered_data = filtered_data.dropna(subset=['ingredients'])"
   ],
   "id": "28baa4b8a7467650",
   "outputs": [],
   "execution_count": 6
  },
  {
   "metadata": {
    "ExecuteTime": {
     "end_time": "2024-12-25T15:33:54.141741Z",
     "start_time": "2024-12-25T15:33:44.169446Z"
    }
   },
   "cell_type": "code",
   "source": [
    "from nltk.stem import WordNetLemmatizer\n",
    "import re\n",
    "\n",
    "# Initialize tools\n",
    "lemmatizer = WordNetLemmatizer()\n",
    "stop_words = set(stopwords.words('english'))\n",
    "\n",
    "# Preprocessing function\n",
    "def preprocess_ingredients(text):\n",
    "    # Lowercase\n",
    "    text = text.lower()\n",
    "    # Remove special characters and numbers\n",
    "    text = re.sub(r'[^a-z\\s]', '', text)\n",
    "    # Tokenize and remove stopwords\n",
    "    tokens = text.split()\n",
    "    tokens = [word for word in tokens if word not in stop_words]\n",
    "    # Lemmatize\n",
    "    tokens = [lemmatizer.lemmatize(word) for word in tokens]\n",
    "    return ' '.join(tokens)\n",
    "\n",
    "# Apply preprocessing\n",
    "filtered_data['ingredients_cleaned'] = filtered_data['ingredients'].apply(preprocess_ingredients)\n"
   ],
   "id": "63ebfbce4af7be08",
   "outputs": [],
   "execution_count": 7
  },
  {
   "metadata": {
    "ExecuteTime": {
     "end_time": "2024-12-25T15:34:00.086714Z",
     "start_time": "2024-12-25T15:33:58.006107Z"
    }
   },
   "cell_type": "code",
   "source": [
    "import dask.dataframe as dd\n",
    "\n",
    "# Convert the filtered dataset to a Dask DataFrame\n",
    "dask_data = dd.from_pandas(filtered_data, npartitions=4)\n",
    "\n",
    "# Example pipeline: Preprocess and split into features and labels\n",
    "dask_data['ingredients_cleaned'] = dask_data['ingredients'].map(preprocess_ingredients, meta=('ingredients_cleaned', 'str'))"
   ],
   "id": "4bb3b3d3c4f47808",
   "outputs": [],
   "execution_count": 8
  },
  {
   "metadata": {
    "ExecuteTime": {
     "end_time": "2024-12-25T15:34:05.651656Z",
     "start_time": "2024-12-25T15:34:04.727609Z"
    }
   },
   "cell_type": "code",
   "source": [
    "from sklearn.feature_extraction.text import TfidfVectorizer\n",
    "\n",
    "# Initialize TF-IDF Vectorizer\n",
    "tfidf = TfidfVectorizer(max_features=5000)  # Use top 5000 features\n",
    "\n",
    "# Fit and transform the text data\n",
    "X = tfidf.fit_transform(filtered_data['ingredients_cleaned'])\n",
    "y = filtered_data['primary_category']"
   ],
   "id": "adce27db601d8ae8",
   "outputs": [],
   "execution_count": 9
  },
  {
   "metadata": {
    "ExecuteTime": {
     "end_time": "2024-12-25T15:34:15.721845Z",
     "start_time": "2024-12-25T15:34:08.649727Z"
    }
   },
   "cell_type": "code",
   "source": [
    "from sklearn.model_selection import train_test_split\n",
    "from sklearn.ensemble import RandomForestClassifier\n",
    "from sklearn.metrics import classification_report\n",
    "\n",
    "# Split the dataset into training and testing sets\n",
    "X_train, X_test, y_train, y_test = train_test_split(X, y, test_size=0.2, random_state=42)\n",
    "\n",
    "# Train a Random Forest Classifier\n",
    "model = RandomForestClassifier(random_state=42)\n",
    "model.fit(X_train, y_train)\n",
    "\n",
    "# Evaluate the model\n",
    "y_pred = model.predict(X_test)\n",
    "print(classification_report(y_test, y_pred))\n"
   ],
   "id": "6151c972bf1bc9c4",
   "outputs": [
    {
     "name": "stdout",
     "output_type": "stream",
     "text": [
      "              precision    recall  f1-score   support\n",
      "\n",
      "   Fragrance       0.97      0.97      0.97       262\n",
      "        Hair       0.96      0.87      0.91       246\n",
      "      Makeup       0.94      0.91      0.92       411\n",
      "    Skincare       0.88      0.95      0.91       451\n",
      "\n",
      "    accuracy                           0.93      1370\n",
      "   macro avg       0.94      0.92      0.93      1370\n",
      "weighted avg       0.93      0.93      0.93      1370\n",
      "\n"
     ]
    }
   ],
   "execution_count": 10
  },
  {
   "metadata": {
    "ExecuteTime": {
     "end_time": "2024-12-25T15:34:20.066583Z",
     "start_time": "2024-12-25T15:34:20.032079Z"
    }
   },
   "cell_type": "code",
   "source": [
    "# Example: Predict using new ingredient data\n",
    "new_data = [\"WATER/EAU, SODIUM LAURYLSULFATE, SODIUM LAURETH SULFATE, COCAMIDOPROPYL BE- TAINE, GLYCOL DISTEARATE, DIMETHICONE, SODIUM CITRATE, COCAMIDE MEA, SODIUM XYLENESULFONATE, FRAGRANCE/ PARFUM, CITRIC ACID, SODIUM BENZOATE, POLYQUATERNI- UM-76, SODIUM CHLORIDE, TETRASODIUM EDTA, PANTHE- NOL, PANTHENYL ETHYL ETHER, METHYLCHLOROISOTHIAZOLIN- ONE, METHYLISOTHIAZOLINONE\"]\n",
    "new_data_preprocessed = [preprocess_ingredients(item) for item in new_data]\n",
    "new_data_tfidf = tfidf.transform(new_data_preprocessed)\n",
    "predictions = model.predict(new_data_tfidf)\n",
    "print(predictions)"
   ],
   "id": "629bd49b280efe3b",
   "outputs": [
    {
     "name": "stdout",
     "output_type": "stream",
     "text": [
      "['Hair']\n"
     ]
    }
   ],
   "execution_count": 11
  }
 ],
 "metadata": {
  "kernelspec": {
   "display_name": "Python 3",
   "language": "python",
   "name": "python3"
  },
  "language_info": {
   "codemirror_mode": {
    "name": "ipython",
    "version": 2
   },
   "file_extension": ".py",
   "mimetype": "text/x-python",
   "name": "python",
   "nbconvert_exporter": "python",
   "pygments_lexer": "ipython2",
   "version": "2.7.6"
  }
 },
 "nbformat": 4,
 "nbformat_minor": 5
}
