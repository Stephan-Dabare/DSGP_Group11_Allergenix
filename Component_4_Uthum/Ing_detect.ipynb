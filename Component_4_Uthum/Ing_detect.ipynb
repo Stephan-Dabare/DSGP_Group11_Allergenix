{
 "cells": [
  {
   "cell_type": "code",
   "id": "initial_id",
   "metadata": {
    "collapsed": true,
    "ExecuteTime": {
     "end_time": "2025-01-19T03:44:03.437158Z",
     "start_time": "2025-01-19T03:44:01.734975Z"
    }
   },
   "source": [
    "import pandas as pd\n",
    "data = pd.read_csv('data/new_product_info.csv')"
   ],
   "outputs": [],
   "execution_count": 1
  },
  {
   "metadata": {
    "ExecuteTime": {
     "end_time": "2025-01-19T03:54:41.165635Z",
     "start_time": "2025-01-19T03:54:41.155631Z"
    }
   },
   "cell_type": "code",
   "source": [
    "# Load harmful ingredients from the text file\n",
    "with open(\"data/harmful_ingredients.txt\", \"r\") as file:\n",
    "    harmful_ingredients = [line.strip() for line in file]\n",
    "\n",
    "# Example input ingredients\n",
    "input_ingredients = [\"WATER/EAU, SODIUM LAURYLSULFATE, SODIUM LAURETH SULFATE, COCAMIDOPROPYL BE- TAINE, GLYCOL DISTEARATE, DIMETHICONE, SODIUM CITRATE, COCAMIDE MEA, SODIUM XYLENESULFONATE, FRAGRANCE/ PARFUM, CITRIC ACID, SODIUM BENZOATE, POLYQUATERNI- UM-76, SODIUM CHLORIDE, TETRASODIUM EDTA, PANTHE- NOL, PANTHENYL ETHYL ETHER, METHYLCHLOROISOTHIAZOLIN- ONE, METHYLISOTHIAZOLINONE\"]"
   ],
   "id": "412688c0696e10fa",
   "outputs": [],
   "execution_count": 3
  },
  {
   "metadata": {
    "ExecuteTime": {
     "end_time": "2025-01-19T03:59:01.093618Z",
     "start_time": "2025-01-19T03:57:40.571494Z"
    }
   },
   "cell_type": "code",
   "source": [
    "from sentence_transformers import SentenceTransformer\n",
    "import numpy as np\n",
    "\n",
    "# Load Sentence-BERT model\n",
    "model = SentenceTransformer('paraphrase-MiniLM-L6-v2')\n",
    "\n",
    "# Batch process harmful ingredient embeddings\n",
    "batch_size = 1000  # Adjust based on your system's memory\n",
    "harmful_embeddings = []\n",
    "for i in range(0, len(harmful_ingredients), batch_size):\n",
    "    batch = harmful_ingredients[i:i + batch_size]\n",
    "    embeddings = model.encode(batch, convert_to_tensor=True)\n",
    "    harmful_embeddings.append(embeddings)\n",
    "harmful_embeddings = np.vstack(harmful_embeddings)  # Combine all batches\n"
   ],
   "id": "acad868bb111250",
   "outputs": [
    {
     "data": {
      "text/plain": [
       "modules.json:   0%|          | 0.00/229 [00:00<?, ?B/s]"
      ],
      "application/vnd.jupyter.widget-view+json": {
       "version_major": 2,
       "version_minor": 0,
       "model_id": "7ae8fc614966474e96dbf573678264e7"
      }
     },
     "metadata": {},
     "output_type": "display_data"
    },
    {
     "data": {
      "text/plain": [
       "config_sentence_transformers.json:   0%|          | 0.00/122 [00:00<?, ?B/s]"
      ],
      "application/vnd.jupyter.widget-view+json": {
       "version_major": 2,
       "version_minor": 0,
       "model_id": "1958aad6df7645e9a2dfa49d2bbe622b"
      }
     },
     "metadata": {},
     "output_type": "display_data"
    },
    {
     "data": {
      "text/plain": [
       "README.md:   0%|          | 0.00/3.73k [00:00<?, ?B/s]"
      ],
      "application/vnd.jupyter.widget-view+json": {
       "version_major": 2,
       "version_minor": 0,
       "model_id": "0b0eb9f50bda48b8bedbcfdad5a86f36"
      }
     },
     "metadata": {},
     "output_type": "display_data"
    },
    {
     "data": {
      "text/plain": [
       "sentence_bert_config.json:   0%|          | 0.00/53.0 [00:00<?, ?B/s]"
      ],
      "application/vnd.jupyter.widget-view+json": {
       "version_major": 2,
       "version_minor": 0,
       "model_id": "74fa9d0d45c64015a90efd3c8235f436"
      }
     },
     "metadata": {},
     "output_type": "display_data"
    },
    {
     "data": {
      "text/plain": [
       "config.json:   0%|          | 0.00/629 [00:00<?, ?B/s]"
      ],
      "application/vnd.jupyter.widget-view+json": {
       "version_major": 2,
       "version_minor": 0,
       "model_id": "5e39e66bab534d15946585db8514607e"
      }
     },
     "metadata": {},
     "output_type": "display_data"
    },
    {
     "data": {
      "text/plain": [
       "model.safetensors:   0%|          | 0.00/90.9M [00:00<?, ?B/s]"
      ],
      "application/vnd.jupyter.widget-view+json": {
       "version_major": 2,
       "version_minor": 0,
       "model_id": "887cc2e3ee6741aa92842e08a3ab2ba7"
      }
     },
     "metadata": {},
     "output_type": "display_data"
    },
    {
     "data": {
      "text/plain": [
       "tokenizer_config.json:   0%|          | 0.00/314 [00:00<?, ?B/s]"
      ],
      "application/vnd.jupyter.widget-view+json": {
       "version_major": 2,
       "version_minor": 0,
       "model_id": "3da9b537704545b6b439b06424152307"
      }
     },
     "metadata": {},
     "output_type": "display_data"
    },
    {
     "data": {
      "text/plain": [
       "vocab.txt:   0%|          | 0.00/232k [00:00<?, ?B/s]"
      ],
      "application/vnd.jupyter.widget-view+json": {
       "version_major": 2,
       "version_minor": 0,
       "model_id": "d1895d7cddd24a1ca7ba337f24c315a3"
      }
     },
     "metadata": {},
     "output_type": "display_data"
    },
    {
     "data": {
      "text/plain": [
       "tokenizer.json:   0%|          | 0.00/466k [00:00<?, ?B/s]"
      ],
      "application/vnd.jupyter.widget-view+json": {
       "version_major": 2,
       "version_minor": 0,
       "model_id": "8d72ead295b344ee97f96ba59c5fc8df"
      }
     },
     "metadata": {},
     "output_type": "display_data"
    },
    {
     "data": {
      "text/plain": [
       "special_tokens_map.json:   0%|          | 0.00/112 [00:00<?, ?B/s]"
      ],
      "application/vnd.jupyter.widget-view+json": {
       "version_major": 2,
       "version_minor": 0,
       "model_id": "d9669de185724dc7ad47aa2b0e21f24d"
      }
     },
     "metadata": {},
     "output_type": "display_data"
    },
    {
     "data": {
      "text/plain": [
       "1_Pooling/config.json:   0%|          | 0.00/190 [00:00<?, ?B/s]"
      ],
      "application/vnd.jupyter.widget-view+json": {
       "version_major": 2,
       "version_minor": 0,
       "model_id": "c9379bc286d346beae1298d028d4937e"
      }
     },
     "metadata": {},
     "output_type": "display_data"
    }
   ],
   "execution_count": 4
  },
  {
   "metadata": {
    "ExecuteTime": {
     "end_time": "2025-01-19T04:01:00.586442Z",
     "start_time": "2025-01-19T04:01:00.402844Z"
    }
   },
   "cell_type": "code",
   "source": [
    "import faiss\n",
    "\n",
    "# Create a FAISS index\n",
    "embedding_dim = harmful_embeddings.shape[1]\n",
    "index = faiss.IndexFlatL2(embedding_dim)  # L2 (Euclidean) distance\n",
    "index.add(harmful_embeddings)  # Add harmful ingredient embeddings to the index\n",
    "\n",
    "# Encode input ingredients\n",
    "input_embeddings = model.encode(input_ingredients)\n",
    "\n",
    "# Search for the nearest neighbors\n",
    "distances, indices = index.search(input_embeddings, k=5)  # Top 5 similar ingredients\n",
    "\n",
    "# Map results back to harmful ingredients\n",
    "for i, ingredient in enumerate(input_ingredients):\n",
    "    print(f\"Input Ingredient: {ingredient}\")\n",
    "    print(\"Potentially Harmful Matches:\")\n",
    "    for idx in indices[i]:\n",
    "        print(f\"- {harmful_ingredients[idx]} (Distance: {distances[i][idx]:.4f})\")\n"
   ],
   "id": "2ab87fc7bc285585",
   "outputs": [
    {
     "name": "stdout",
     "output_type": "stream",
     "text": [
      "Input Ingredient: WATER/EAU, SODIUM LAURYLSULFATE, SODIUM LAURETH SULFATE, COCAMIDOPROPYL BE- TAINE, GLYCOL DISTEARATE, DIMETHICONE, SODIUM CITRATE, COCAMIDE MEA, SODIUM XYLENESULFONATE, FRAGRANCE/ PARFUM, CITRIC ACID, SODIUM BENZOATE, POLYQUATERNI- UM-76, SODIUM CHLORIDE, TETRASODIUM EDTA, PANTHE- NOL, PANTHENYL ETHYL ETHER, METHYLCHLOROISOTHIAZOLIN- ONE, METHYLISOTHIAZOLINONE\n",
      "Potentially Harmful Matches:\n",
      "- Diazolidinyl urea,DMDM hydantoin,3-dimethylol-5,5-dimethylhydantoin,Imidazolidinyl urea,Sodium hydroxymethylglycinate,Quaternium-15,Dowicil 200,N-(3-chloroallyl) hexaminium chloride,p-phenylenediamine,PPD,Coal-tar,Nickel,Gold (Distance: 14.7428)\n",
      "- Latex,Amyl cinnamal,Amylcinnamyl alcohol,Anisyl alcohol,Benzyl alcohol,Benzyl benzoate,Benzyl cinnamate,Benzyl salicylate,Cinnamyl alcohol,Cinnamaldehyde,Citral,Citronellol,Coumarin,Eugenol,Farnesol,Geraniol,Hexyl,cinnamaladehyde,Hydroxycitronellal,Hydroxyisohexyl 3-cyclohexene carboxaldehyde,HICC,Lyral,Isoeugenol,Lilial,d-Limonene,Linalool,Methyl 2-octynoate,g-Methylionone,Oak moss extract,Tree moss extract,Methylisothiazolinone,Methylchloroisothiazolinone,Formaldehyde,formaldehyde,Bronopol,2-bromo-2-nitropropane-1,3-diol,5-bromo-5-nitro-1,3-dioxane (Distance: 9.6996)\n",
      "- Diazolidinyl urea,DMDM hydantoin,3-dimethylol-5,5-dimethylhydantoin,Imidazolidinyl urea,Sodium hydroxymethylglycinate,Quaternium-15,Dowicil 200,N-(3-chloroallyl) hexaminium chloride,p-phenylenediamine,PPD,Coal-tar,Nickel,Gold (Distance: 340282346638528859811704183484516925440.0000)\n",
      "- Diazolidinyl urea,DMDM hydantoin,3-dimethylol-5,5-dimethylhydantoin,Imidazolidinyl urea,Sodium hydroxymethylglycinate,Quaternium-15,Dowicil 200,N-(3-chloroallyl) hexaminium chloride,p-phenylenediamine,PPD,Coal-tar,Nickel,Gold (Distance: 340282346638528859811704183484516925440.0000)\n",
      "- Diazolidinyl urea,DMDM hydantoin,3-dimethylol-5,5-dimethylhydantoin,Imidazolidinyl urea,Sodium hydroxymethylglycinate,Quaternium-15,Dowicil 200,N-(3-chloroallyl) hexaminium chloride,p-phenylenediamine,PPD,Coal-tar,Nickel,Gold (Distance: 340282346638528859811704183484516925440.0000)\n"
     ]
    }
   ],
   "execution_count": 5
  }
 ],
 "metadata": {
  "kernelspec": {
   "display_name": "Python 3",
   "language": "python",
   "name": "python3"
  },
  "language_info": {
   "codemirror_mode": {
    "name": "ipython",
    "version": 2
   },
   "file_extension": ".py",
   "mimetype": "text/x-python",
   "name": "python",
   "nbconvert_exporter": "python",
   "pygments_lexer": "ipython2",
   "version": "2.7.6"
  }
 },
 "nbformat": 4,
 "nbformat_minor": 5
}
