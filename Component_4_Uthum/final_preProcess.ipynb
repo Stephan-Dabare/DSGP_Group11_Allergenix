{
 "cells": [
  {
   "cell_type": "code",
   "id": "initial_id",
   "metadata": {
    "collapsed": true,
    "ExecuteTime": {
     "end_time": "2025-02-25T14:24:28.388771Z",
     "start_time": "2025-02-25T14:24:28.246771Z"
    }
   },
   "source": [
    "import pandas as pd\n",
    "\n",
    "# Loading the dataset\n",
    "data = pd.read_csv('data/product_info.csv')"
   ],
   "outputs": [],
   "execution_count": 229
  },
  {
   "metadata": {
    "ExecuteTime": {
     "end_time": "2025-02-25T14:24:28.408197Z",
     "start_time": "2025-02-25T14:24:28.396588Z"
    }
   },
   "cell_type": "code",
   "source": [
    "# The only required columns\n",
    "data = data[['product_id', 'brand_name', 'product_name', 'ingredients', 'primary_category',\n",
    "       'secondary_category', 'tertiary_category']]\n",
    "\n",
    "# Checking for missing values\n",
    "data.isnull().sum()"
   ],
   "id": "ef15c9f912d633de",
   "outputs": [
    {
     "data": {
      "text/plain": [
       "product_id              0\n",
       "brand_name              0\n",
       "product_name            0\n",
       "ingredients           945\n",
       "primary_category        0\n",
       "secondary_category      8\n",
       "tertiary_category     990\n",
       "dtype: int64"
      ]
     },
     "execution_count": 230,
     "metadata": {},
     "output_type": "execute_result"
    }
   ],
   "execution_count": 230
  },
  {
   "metadata": {
    "ExecuteTime": {
     "end_time": "2025-02-25T14:24:28.472120Z",
     "start_time": "2025-02-25T14:24:28.460786Z"
    }
   },
   "cell_type": "code",
   "source": [
    "# Dropping null values\n",
    "data.dropna(subset=['ingredients'], inplace=True)\n",
    "data.dropna(subset=['tertiary_category'], inplace=True)"
   ],
   "id": "f183ae37ecc60422",
   "outputs": [],
   "execution_count": 231
  },
  {
   "metadata": {
    "ExecuteTime": {
     "end_time": "2025-02-25T14:24:28.549246Z",
     "start_time": "2025-02-25T14:24:28.527072Z"
    }
   },
   "cell_type": "code",
   "source": [
    "# Counting duplicates\n",
    "duplicate_count = data.duplicated(keep=False).sum()\n",
    "print(f\"Number of duplicate rows: {duplicate_count}\")"
   ],
   "id": "4c68318f3ee2461c",
   "outputs": [
    {
     "name": "stdout",
     "output_type": "stream",
     "text": [
      "Number of duplicate rows: 0\n"
     ]
    }
   ],
   "execution_count": 232
  },
  {
   "metadata": {
    "ExecuteTime": {
     "end_time": "2025-02-25T14:24:28.656392Z",
     "start_time": "2025-02-25T14:24:28.648977Z"
    }
   },
   "cell_type": "code",
   "source": "data['primary_category'].value_counts()",
   "id": "4b6980e3b606968f",
   "outputs": [
    {
     "data": {
      "text/plain": [
       "primary_category\n",
       "Skincare           1920\n",
       "Makeup             1907\n",
       "Fragrance          1243\n",
       "Hair               1163\n",
       "Bath & Body         349\n",
       "Men                  58\n",
       "Tools & Brushes       2\n",
       "Name: count, dtype: int64"
      ]
     },
     "execution_count": 233,
     "metadata": {},
     "output_type": "execute_result"
    }
   ],
   "execution_count": 233
  },
  {
   "metadata": {
    "ExecuteTime": {
     "end_time": "2025-02-25T14:24:28.714055Z",
     "start_time": "2025-02-25T14:24:28.703639Z"
    }
   },
   "cell_type": "code",
   "source": [
    "# Filter the data for the 'Fragrance' primary category\n",
    "fragrance_data = data[data['primary_category'] == 'Tools & Brushes']\n",
    "\n",
    "# Group by tertiary category and count occurrences\n",
    "tertiary_counts = fragrance_data.groupby('tertiary_category').size().reset_index(name='count')\n",
    "\n",
    "# Display all tertiary categories and their counts\n",
    "print(tertiary_counts)"
   ],
   "id": "c9614552b8787008",
   "outputs": [
    {
     "name": "stdout",
     "output_type": "stream",
     "text": [
      "          tertiary_category  count\n",
      "0  Facial Cleansing Brushes      1\n",
      "1           Teeth Whitening      1\n"
     ]
    }
   ],
   "execution_count": 234
  },
  {
   "metadata": {},
   "cell_type": "markdown",
   "source": "The Process",
   "id": "d942a3e3b422747a"
  },
  {
   "metadata": {},
   "cell_type": "markdown",
   "source": "-----------------------------------------------------------------------------------------------------",
   "id": "99af73953d80b01f"
  },
  {
   "metadata": {},
   "cell_type": "markdown",
   "source": "Removing products in the mini size category because it has no tertiary category",
   "id": "ae6bd4fe13bbfebb"
  },
  {
   "metadata": {
    "ExecuteTime": {
     "end_time": "2025-02-25T14:24:28.822050Z",
     "start_time": "2025-02-25T14:24:28.811911Z"
    }
   },
   "cell_type": "code",
   "source": "data.drop(data[data['primary_category'] == \"Mini Size\"].index, inplace=True)",
   "id": "8253bd78ed68a542",
   "outputs": [],
   "execution_count": 235
  },
  {
   "metadata": {},
   "cell_type": "markdown",
   "source": "Transforming unmatching product categories to the other category",
   "id": "87db9d5ab7116a30"
  },
  {
   "metadata": {
    "ExecuteTime": {
     "end_time": "2025-02-25T14:24:28.864106Z",
     "start_time": "2025-02-25T14:24:28.857710Z"
    }
   },
   "cell_type": "code",
   "source": [
    "# Update primary_category where tertiary_category is \"Beauty Supplements\"\n",
    "data.loc[data['tertiary_category'] == \"Beauty Supplements\", 'primary_category'] = \"Other\""
   ],
   "id": "a19f21b3af97530",
   "outputs": [],
   "execution_count": 236
  },
  {
   "metadata": {
    "ExecuteTime": {
     "end_time": "2025-02-25T14:24:28.950480Z",
     "start_time": "2025-02-25T14:24:28.942902Z"
    }
   },
   "cell_type": "code",
   "source": [
    "# Update primary_category where tertiary_category is \"Holistic Wellness\"\n",
    "data.loc[data['tertiary_category'] == \"Holistic Wellness\", 'primary_category'] = \"Other\""
   ],
   "id": "e19fb1e1ea903a18",
   "outputs": [],
   "execution_count": 237
  },
  {
   "metadata": {
    "ExecuteTime": {
     "end_time": "2025-02-25T14:24:28.973639Z",
     "start_time": "2025-02-25T14:24:28.967130Z"
    }
   },
   "cell_type": "code",
   "source": [
    "# Update primary_category where tertiary_category is \"Holistic Wellness\"\n",
    "data.loc[data['tertiary_category'] == \"Makeup Removers\", 'primary_category'] = \"Makeup\""
   ],
   "id": "635c4f09ee5ecfb2",
   "outputs": [],
   "execution_count": 238
  },
  {
   "metadata": {
    "ExecuteTime": {
     "end_time": "2025-02-25T14:24:29.004229Z",
     "start_time": "2025-02-25T14:24:28.997669Z"
    }
   },
   "cell_type": "code",
   "source": [
    "# Update primary_category where tertiary_category is \"Teeth Whitening\"\n",
    "data.loc[data['tertiary_category'] == \"Teeth Whitening\", 'primary_category'] = \"Other\""
   ],
   "id": "f3ba475104de7e5c",
   "outputs": [],
   "execution_count": 239
  },
  {
   "metadata": {
    "ExecuteTime": {
     "end_time": "2025-02-25T14:24:29.028093Z",
     "start_time": "2025-02-25T14:24:29.023112Z"
    }
   },
   "cell_type": "code",
   "source": [
    "# Update primary_category where tertiary_category is \"Brush Cleaners\"\n",
    "data.loc[data['tertiary_category'] == \"Brush Cleaners\", 'primary_category'] = \"Other\""
   ],
   "id": "2fa70493bd73ef61",
   "outputs": [],
   "execution_count": 240
  },
  {
   "metadata": {
    "ExecuteTime": {
     "end_time": "2025-02-25T14:24:29.054620Z",
     "start_time": "2025-02-25T14:24:29.048496Z"
    }
   },
   "cell_type": "code",
   "source": [
    "# Update primary_category where tertiary_category is \"Brush Sets\"\n",
    "data.loc[data['tertiary_category'] == \"Brush Sets\", 'primary_category'] = \"Other\""
   ],
   "id": "4e727a67c71fe032",
   "outputs": [],
   "execution_count": 241
  },
  {
   "metadata": {
    "ExecuteTime": {
     "end_time": "2025-02-25T14:24:29.075195Z",
     "start_time": "2025-02-25T14:24:29.071021Z"
    }
   },
   "cell_type": "code",
   "source": [
    "# Update primary_category where tertiary_category is \"Eye Brushes\"\n",
    "data.loc[data['tertiary_category'] == \"Eye Brushes\", 'primary_category'] = \"Other\""
   ],
   "id": "ea9ac5ff4970e8d9",
   "outputs": [],
   "execution_count": 242
  },
  {
   "metadata": {
    "ExecuteTime": {
     "end_time": "2025-02-25T14:24:29.097763Z",
     "start_time": "2025-02-25T14:24:29.091444Z"
    }
   },
   "cell_type": "code",
   "source": [
    "# Update primary_category where tertiary_category is \"Face Brushes\"\n",
    "data.loc[data['tertiary_category'] == \"Face Brushes\", 'primary_category'] = \"Other\""
   ],
   "id": "cc17234200229712",
   "outputs": [],
   "execution_count": 243
  },
  {
   "metadata": {
    "ExecuteTime": {
     "end_time": "2025-02-25T14:24:29.120340Z",
     "start_time": "2025-02-25T14:24:29.115943Z"
    }
   },
   "cell_type": "code",
   "source": [
    "# Update primary_category where tertiary_category is \"Sponges & Applicators\"\n",
    "data.loc[data['tertiary_category'] == \"Sponges & Applicators\", 'primary_category'] = \"Other\""
   ],
   "id": "5726cffbc316395",
   "outputs": [],
   "execution_count": 244
  },
  {
   "metadata": {
    "ExecuteTime": {
     "end_time": "2025-02-25T14:24:29.140097Z",
     "start_time": "2025-02-25T14:24:29.135296Z"
    }
   },
   "cell_type": "code",
   "source": [
    "# Update primary_category where tertiary_category is \"Accessories\"\n",
    "data.loc[data['tertiary_category'] == \"Accessories\", 'primary_category'] = \"Other\""
   ],
   "id": "aa2df0ca899fff94",
   "outputs": [],
   "execution_count": 245
  },
  {
   "metadata": {
    "ExecuteTime": {
     "end_time": "2025-02-25T14:24:29.158460Z",
     "start_time": "2025-02-25T14:24:29.153226Z"
    }
   },
   "cell_type": "code",
   "source": [
    "# Update primary_category where tertiary_category is \"Hair Supplements\"\n",
    "data.loc[data['tertiary_category'] == \"Hair Supplements\", 'primary_category'] = \"Other\""
   ],
   "id": "b039f5d83787d0a8",
   "outputs": [],
   "execution_count": 246
  },
  {
   "metadata": {
    "ExecuteTime": {
     "end_time": "2025-02-25T14:24:29.199601Z",
     "start_time": "2025-02-25T14:24:29.193695Z"
    }
   },
   "cell_type": "code",
   "source": [
    "# Update primary_category where tertiary_category is \"Candles\"\n",
    "data.loc[data['tertiary_category'] == \"Candles\", 'primary_category'] = \"Other\""
   ],
   "id": "b8b926853f98d2e6",
   "outputs": [],
   "execution_count": 247
  },
  {
   "metadata": {
    "ExecuteTime": {
     "end_time": "2025-02-25T14:24:29.211139Z",
     "start_time": "2025-02-25T14:24:29.205223Z"
    }
   },
   "cell_type": "code",
   "source": [
    "# Update primary_category where tertiary_category is \"Diffusers\"\n",
    "data.loc[data['tertiary_category'] == \"Diffusers\", 'primary_category'] = \"Other\""
   ],
   "id": "e47fcb6d0f75f659",
   "outputs": [],
   "execution_count": 248
  },
  {
   "metadata": {
    "ExecuteTime": {
     "end_time": "2025-02-25T14:24:29.230979Z",
     "start_time": "2025-02-25T14:24:29.225326Z"
    }
   },
   "cell_type": "code",
   "source": [
    "# Update primary_category where tertiary_category is \"For Body\"\n",
    "data.loc[data['tertiary_category'] == \"For Body\", 'primary_category'] = \"Skincare\""
   ],
   "id": "c82c619cfa1c21e3",
   "outputs": [],
   "execution_count": 249
  },
  {
   "metadata": {
    "ExecuteTime": {
     "end_time": "2025-02-25T14:24:29.249667Z",
     "start_time": "2025-02-25T14:24:29.244750Z"
    }
   },
   "cell_type": "code",
   "source": [
    "# Update primary_category where tertiary_category is \"For Face\"\n",
    "data.loc[data['tertiary_category'] == \"For Face\", 'primary_category'] = \"Skincare\""
   ],
   "id": "e308bfebaa2ae751",
   "outputs": [],
   "execution_count": 250
  },
  {
   "metadata": {
    "ExecuteTime": {
     "end_time": "2025-02-25T14:24:29.270636Z",
     "start_time": "2025-02-25T14:24:29.265537Z"
    }
   },
   "cell_type": "code",
   "source": [
    "# Update primary_category where tertiary_category is \"Bath & Body\"\n",
    "data.loc[data['primary_category'] == \"Bath & Body\", 'primary_category'] = \"Other\""
   ],
   "id": "ccf0963815346569",
   "outputs": [],
   "execution_count": 251
  },
  {
   "metadata": {
    "ExecuteTime": {
     "end_time": "2025-02-25T14:24:29.303433Z",
     "start_time": "2025-02-25T14:24:29.298848Z"
    }
   },
   "cell_type": "code",
   "source": [
    "# Update primary_category where tertiary_category is \"Tools & Brushes\"\n",
    "data.loc[data['primary_category'] == \"Tools & Brushes\", 'primary_category'] = \"Other\""
   ],
   "id": "6ca4ac39c1ea5c74",
   "outputs": [],
   "execution_count": 252
  },
  {
   "metadata": {
    "ExecuteTime": {
     "end_time": "2025-02-25T14:24:29.336328Z",
     "start_time": "2025-02-25T14:24:29.330953Z"
    }
   },
   "cell_type": "code",
   "source": [
    "# Update primary_category where tertiary_category is \"Men\"\n",
    "data.loc[data['primary_category'] == \"Men\", 'primary_category'] = \"Other\""
   ],
   "id": "2da2879221525dc4",
   "outputs": [],
   "execution_count": 253
  },
  {
   "metadata": {
    "ExecuteTime": {
     "end_time": "2025-02-25T14:24:29.384025Z",
     "start_time": "2025-02-25T14:24:29.378615Z"
    }
   },
   "cell_type": "code",
   "source": [
    "# Update primary_category where tertiary_category is \"Body Sunscreen\"\n",
    "data.loc[data['tertiary_category'] == \"Body Sunscreen\", 'primary_category'] = \"Skincare\""
   ],
   "id": "8e4e3db3c6361c5e",
   "outputs": [],
   "execution_count": 254
  },
  {
   "metadata": {
    "ExecuteTime": {
     "end_time": "2025-02-25T14:24:29.430504Z",
     "start_time": "2025-02-25T14:24:29.424174Z"
    }
   },
   "cell_type": "code",
   "source": [
    "# Update primary_category where tertiary_category is \"Blotting Papers\"\n",
    "data.loc[data['tertiary_category'] == \"Blotting Papers\", 'primary_category'] = \"Other\""
   ],
   "id": "e5964648fdcf8a22",
   "outputs": [],
   "execution_count": 255
  },
  {
   "metadata": {
    "ExecuteTime": {
     "end_time": "2025-02-25T14:25:39.234955Z",
     "start_time": "2025-02-25T14:25:39.228897Z"
    }
   },
   "cell_type": "code",
   "source": [
    "# Changing the tertiary category name\n",
    "data.loc[data['tertiary_category'] == \"Cologne Gift Sets\", 'tertiary_category'] = \"Cologne\""
   ],
   "id": "aa2fca4d509c252e",
   "outputs": [],
   "execution_count": 266
  },
  {
   "metadata": {
    "ExecuteTime": {
     "end_time": "2025-02-25T14:24:29.506905Z",
     "start_time": "2025-02-25T14:24:29.502303Z"
    }
   },
   "cell_type": "code",
   "source": [
    "# Changing the tertiary category name\n",
    "data.loc[data['tertiary_category'] == \"Perfume Gift Sets\", 'tertiary_category'] = \"Perfume\""
   ],
   "id": "64ea169ff147bb1",
   "outputs": [],
   "execution_count": 257
  },
  {
   "metadata": {
    "ExecuteTime": {
     "end_time": "2025-02-25T14:24:29.543818Z",
     "start_time": "2025-02-25T14:24:29.535640Z"
    }
   },
   "cell_type": "code",
   "source": [
    "# Update primary_category where tertiary_category is \"BB & CC Cream\"\n",
    "data.loc[data['tertiary_category'] == \"Men\", 'BB & CC Creams'] = \"BB & CC Cream\"\n",
    "data.loc[data['tertiary_category'] == \"BB & CC Cream\", 'primary_category'] = \"Skincare\""
   ],
   "id": "d412e7782cbb8773",
   "outputs": [],
   "execution_count": 258
  },
  {
   "metadata": {
    "ExecuteTime": {
     "end_time": "2025-02-25T14:24:29.578741Z",
     "start_time": "2025-02-25T14:24:29.573485Z"
    }
   },
   "cell_type": "code",
   "source": [
    "# Changing the tertiary category name\n",
    "data.loc[data['tertiary_category'] == \"BB & CC Creams\", 'tertiary_category'] = \"BB & CC Cream\""
   ],
   "id": "b9f56420937e879c",
   "outputs": [],
   "execution_count": 259
  },
  {
   "metadata": {},
   "cell_type": "markdown",
   "source": "Deleting product category  from tertiary which has less than 10 value counts",
   "id": "b625033e96970a53"
  },
  {
   "metadata": {
    "ExecuteTime": {
     "end_time": "2025-02-25T14:24:29.596070Z",
     "start_time": "2025-02-25T14:24:29.585903Z"
    }
   },
   "cell_type": "code",
   "source": [
    "# Step 1: Get categories with counts >= 10 (excluding \"Other\" primary category)\n",
    "valid_categories = data.loc[data['primary_category'] != \"Other\", 'tertiary_category'].value_counts()\n",
    "valid_categories = valid_categories[valid_categories >= 10].index  # Keep only categories with count >= 10\n",
    "\n",
    "# Step 2: Filter the dataset\n",
    "data = data[(data['tertiary_category'].isin(valid_categories)) | (data['primary_category'] == \"Other\")]\n"
   ],
   "id": "f3adcfd44b9d6d64",
   "outputs": [],
   "execution_count": 260
  },
  {
   "metadata": {
    "ExecuteTime": {
     "end_time": "2025-02-25T14:25:46.202458Z",
     "start_time": "2025-02-25T14:25:46.191941Z"
    }
   },
   "cell_type": "code",
   "source": [
    "# Filter the data for the 'Fragrance' primary category\n",
    "fragrance_data = data[data['primary_category'] == 'Fragrance']\n",
    "\n",
    "# Group by tertiary category and count occurrences\n",
    "tertiary_counts = fragrance_data.groupby('tertiary_category').size().reset_index(name='count')\n",
    "\n",
    "# Display all tertiary categories and their counts\n",
    "print(tertiary_counts)"
   ],
   "id": "72e938b849593f81",
   "outputs": [
    {
     "name": "stdout",
     "output_type": "stream",
     "text": [
      "           tertiary_category  count\n",
      "0      Body Mist & Hair Mist     18\n",
      "1                    Cologne    147\n",
      "2                    Perfume    664\n",
      "3  Rollerballs & Travel Size    276\n"
     ]
    }
   ],
   "execution_count": 267
  },
  {
   "metadata": {
    "ExecuteTime": {
     "end_time": "2025-02-25T14:24:29.652803Z",
     "start_time": "2025-02-25T14:24:29.644614Z"
    }
   },
   "cell_type": "code",
   "source": [
    "# Checking for missing values\n",
    "data['primary_category'].isnull().sum()"
   ],
   "id": "32227e4be7c181eb",
   "outputs": [
    {
     "data": {
      "text/plain": [
       "0"
      ]
     },
     "execution_count": 262,
     "metadata": {},
     "output_type": "execute_result"
    }
   ],
   "execution_count": 262
  },
  {
   "metadata": {
    "ExecuteTime": {
     "end_time": "2025-02-25T14:24:29.707608Z",
     "start_time": "2025-02-25T14:24:29.700582Z"
    }
   },
   "cell_type": "code",
   "source": "data['primary_category'].value_counts()",
   "id": "2495d3012c95b1af",
   "outputs": [
    {
     "data": {
      "text/plain": [
       "primary_category\n",
       "Makeup       1877\n",
       "Skincare     1856\n",
       "Hair         1129\n",
       "Fragrance    1105\n",
       "Other         636\n",
       "Name: count, dtype: int64"
      ]
     },
     "execution_count": 263,
     "metadata": {},
     "output_type": "execute_result"
    }
   ],
   "execution_count": 263
  },
  {
   "metadata": {
    "ExecuteTime": {
     "end_time": "2025-02-25T14:20:56.497219Z",
     "start_time": "2025-02-25T14:20:56.244656Z"
    }
   },
   "cell_type": "code",
   "source": [
    "import matplotlib.pyplot as plt\n",
    "from matplotlib_venn import venn2\n",
    "\n",
    "# Create sets for each primary category\n",
    "skincare_set = set(data[data['primary_category'] == 'Skincare']['tertiary_category'])\n",
    "makeup_set = set(data[data['primary_category'] == 'Makeup']['tertiary_category'])\n",
    "hair_set = set(data[data['primary_category'] == 'Hair']['tertiary_category'])\n",
    "fragrance_set = set(data[data['primary_category'] == 'Fragrance']['tertiary_category'])\n",
    "other_set = set(data[data['primary_category'] == 'Other']['tertiary_category'])  # Added \"Other\" category\n",
    "\n",
    "# Create the Venn diagram\n",
    "plt.figure(figsize=(12, 12))\n",
    "\n",
    "# Skincare vs Makeup\n",
    "plt.subplot(231)\n",
    "venn2([skincare_set, makeup_set], ('Skincare', 'Makeup'))\n",
    "plt.title('Skincare vs Makeup')\n",
    "\n",
    "# Skincare vs Hair\n",
    "plt.subplot(232)\n",
    "venn2([skincare_set, hair_set], ('Skincare', 'Hair'))\n",
    "plt.title('Skincare vs Hair')\n",
    "\n",
    "# Skincare vs Fragrance\n",
    "plt.subplot(233)\n",
    "venn2([skincare_set, fragrance_set], ('Skincare', 'Fragrance'))\n",
    "plt.title('Skincare vs Fragrance')\n",
    "\n",
    "# Makeup vs Hair\n",
    "plt.subplot(234)\n",
    "venn2([makeup_set, hair_set], ('Makeup', 'Hair'))\n",
    "plt.title('Makeup vs Hair')\n",
    "\n",
    "# Other vs Skincare\n",
    "plt.subplot(235)\n",
    "venn2([other_set, skincare_set], ('Other', 'Skincare'))\n",
    "plt.title('Other vs Skincare')\n",
    "\n",
    "# Other vs Makeup\n",
    "plt.subplot(236)\n",
    "venn2([other_set, makeup_set], ('Other', 'Makeup'))\n",
    "plt.title('Other vs Makeup')\n",
    "\n",
    "plt.tight_layout()\n",
    "plt.show()\n"
   ],
   "id": "dda0eb069926f608",
   "outputs": [
    {
     "data": {
      "text/plain": [
       "<Figure size 1200x1200 with 6 Axes>"
      ],
      "image/png": "[encoded data removed]"
     },
     "metadata": {},
     "output_type": "display_data"
    }
   ],
   "execution_count": 225
  },
  {
   "metadata": {},
   "cell_type": "markdown",
   "source": "-----------------------------------------------------------------------------------------------------",
   "id": "d8074b501babad85"
  },
  {
   "metadata": {},
   "cell_type": "markdown",
   "source": "Cleaning the Ingredients column",
   "id": "a55b2d534655edd1"
  },
  {
   "metadata": {
    "ExecuteTime": {
     "end_time": "2025-02-25T14:33:25.664752Z",
     "start_time": "2025-02-25T14:33:25.406310Z"
    }
   },
   "cell_type": "code",
   "source": [
    "# Clean the ingredients column\n",
    "data['ingredients'] = data['ingredients'].str.strip()  # Remove leading and trailing spaces\n",
    "data['ingredients'] = data['ingredients'].str.replace(r'^[^\\w]+|[^\\w]+$', '', regex=True)  # Remove unwanted symbols"
   ],
   "id": "cb91aa4804fb18dd",
   "outputs": [],
   "execution_count": 269
  },
  {
   "metadata": {},
   "cell_type": "markdown",
   "source": "Attaching detection columns to the dataset",
   "id": "dc5e875498466911"
  },
  {
   "metadata": {
    "ExecuteTime": {
     "end_time": "2025-02-25T14:33:29.480052Z",
     "start_time": "2025-02-25T14:33:27.439181Z"
    }
   },
   "cell_type": "code",
   "source": [
    "import re\n",
    "\n",
    "# Function to normalize ingredient names\n",
    "def normalize_ingredient(ingredient):\n",
    "    ingredient = ingredient.lower()  # Convert to lowercase\n",
    "    ingredient = re.sub(r'[-.,/]+', ' ', ingredient)  # Replace separators with space\n",
    "    ingredient = re.sub(r'\\s+', ' ', ingredient).strip()  # Remove extra spaces\n",
    "    return ingredient\n",
    "\n",
    "# Load ingredient lists\n",
    "with open(\"data/concern_chems.txt\") as f:\n",
    "    concern_chems = [normalize_ingredient(line.strip()) for line in f]\n",
    "\n",
    "with open(\"data/red_list.txt\") as f:\n",
    "    red_list = [normalize_ingredient(line.strip()) for line in f]\n",
    "\n",
    "with open(\"data/the_gens.txt\") as f:\n",
    "    the_gens = [normalize_ingredient(line.strip()) for line in f]\n",
    "\n",
    "# Ensure the ingredients column is in a string format\n",
    "data['ingredients'] = data['ingredients'].astype(str)\n",
    "\n",
    "# Tokenize each ingredient list in the dataset by splitting on commas\n",
    "data['ingredients_list'] = data['ingredients'].apply(lambda x: [normalize_ingredient(ingredient) for ingredient in x.split(',')])\n",
    "\n",
    "# Create new columns to store detected ingredients from each category\n",
    "data['concerning_chems_detected'] = data['ingredients_list'].apply(lambda ingredients: [ingredient for ingredient in ingredients if ingredient in concern_chems])\n",
    "data['red_list_chems_detected'] = data['ingredients_list'].apply(lambda ingredients: [ingredient for ingredient in ingredients if ingredient in red_list])\n",
    "data['allergens_detected'] = data['ingredients_list'].apply(lambda ingredients: [ingredient for ingredient in ingredients if ingredient in the_gens])\n",
    "\n",
    "# Count detected ingredients for each category\n",
    "data['concerning_chems_count'] = data['concerning_chems_detected'].apply(len)\n",
    "data['red_list_chems_count'] = data['red_list_chems_detected'].apply(len)\n",
    "data['allergens_count'] = data['allergens_detected'].apply(len)\n",
    "\n",
    "# View the results\n",
    "data[['product_name', 'concerning_chems_detected', 'concerning_chems_count', 'red_list_chems_detected', 'red_list_chems_count', 'allergens_detected', 'allergens_count']].head()"
   ],
   "id": "bfe7d0a9c225b880",
   "outputs": [
    {
     "data": {
      "text/plain": [
       "                product_name  \\\n",
       "0    Fragrance Discovery Set   \n",
       "1    La Habana Eau de Parfum   \n",
       "2  Rainbow Bar Eau de Parfum   \n",
       "3       Kasbah Eau de Parfum   \n",
       "4  Purple Haze Eau de Parfum   \n",
       "\n",
       "                           concerning_chems_detected  concerning_chems_count  \\\n",
       "0  [citral, eugenol, farnesol, benzyl benzoate, c...                      20   \n",
       "1  [benzyl benzoate, benzyl cinnamate, cinnamal, ...                       5   \n",
       "2                        [coumarin, eugenol, citral]                       3   \n",
       "3                        [eugenol, cinnamal, citral]                       3   \n",
       "4              [coumarin, farnesol, eugenol, citral]                       4   \n",
       "\n",
       "    red_list_chems_detected  red_list_chems_count  \\\n",
       "0  [isoeugenol, isoeugenol]                     2   \n",
       "1                        []                     0   \n",
       "2              [isoeugenol]                     1   \n",
       "3                        []                     0   \n",
       "4                        []                     0   \n",
       "\n",
       "                                  allergens_detected  allergens_count  \n",
       "0  [linalool, citral, geraniol, eugenol, benzyl a...               31  \n",
       "1  [benzyl alcohol, benzyl benzoate, benzyl cinna...                7  \n",
       "2    [linalool, coumarin, eugenol, citral, geraniol]                5  \n",
       "3    [eugenol, linalool, geraniol, cinnamal, citral]                5  \n",
       "4  [geraniol, linalool, coumarin, farnesol, eugen...                6  "
      ],
      "text/html": [
       "<div>\n",
       "<style scoped>\n",
       "    .dataframe tbody tr th:only-of-type {\n",
       "        vertical-align: middle;\n",
       "    }\n",
       "\n",
       "    .dataframe tbody tr th {\n",
       "        vertical-align: top;\n",
       "    }\n",
       "\n",
       "    .dataframe thead th {\n",
       "        text-align: right;\n",
       "    }\n",
       "</style>\n",
       "<table border=\"1\" class=\"dataframe\">\n",
       "  <thead>\n",
       "    <tr style=\"text-align: right;\">\n",
       "      <th></th>\n",
       "      <th>product_name</th>\n",
       "      <th>concerning_chems_detected</th>\n",
       "      <th>concerning_chems_count</th>\n",
       "      <th>red_list_chems_detected</th>\n",
       "      <th>red_list_chems_count</th>\n",
       "      <th>allergens_detected</th>\n",
       "      <th>allergens_count</th>\n",
       "    </tr>\n",
       "  </thead>\n",
       "  <tbody>\n",
       "    <tr>\n",
       "      <th>0</th>\n",
       "      <td>Fragrance Discovery Set</td>\n",
       "      <td>[citral, eugenol, farnesol, benzyl benzoate, c...</td>\n",
       "      <td>20</td>\n",
       "      <td>[isoeugenol, isoeugenol]</td>\n",
       "      <td>2</td>\n",
       "      <td>[linalool, citral, geraniol, eugenol, benzyl a...</td>\n",
       "      <td>31</td>\n",
       "    </tr>\n",
       "    <tr>\n",
       "      <th>1</th>\n",
       "      <td>La Habana Eau de Parfum</td>\n",
       "      <td>[benzyl benzoate, benzyl cinnamate, cinnamal, ...</td>\n",
       "      <td>5</td>\n",
       "      <td>[]</td>\n",
       "      <td>0</td>\n",
       "      <td>[benzyl alcohol, benzyl benzoate, benzyl cinna...</td>\n",
       "      <td>7</td>\n",
       "    </tr>\n",
       "    <tr>\n",
       "      <th>2</th>\n",
       "      <td>Rainbow Bar Eau de Parfum</td>\n",
       "      <td>[coumarin, eugenol, citral]</td>\n",
       "      <td>3</td>\n",
       "      <td>[isoeugenol]</td>\n",
       "      <td>1</td>\n",
       "      <td>[linalool, coumarin, eugenol, citral, geraniol]</td>\n",
       "      <td>5</td>\n",
       "    </tr>\n",
       "    <tr>\n",
       "      <th>3</th>\n",
       "      <td>Kasbah Eau de Parfum</td>\n",
       "      <td>[eugenol, cinnamal, citral]</td>\n",
       "      <td>3</td>\n",
       "      <td>[]</td>\n",
       "      <td>0</td>\n",
       "      <td>[eugenol, linalool, geraniol, cinnamal, citral]</td>\n",
       "      <td>5</td>\n",
       "    </tr>\n",
       "    <tr>\n",
       "      <th>4</th>\n",
       "      <td>Purple Haze Eau de Parfum</td>\n",
       "      <td>[coumarin, farnesol, eugenol, citral]</td>\n",
       "      <td>4</td>\n",
       "      <td>[]</td>\n",
       "      <td>0</td>\n",
       "      <td>[geraniol, linalool, coumarin, farnesol, eugen...</td>\n",
       "      <td>6</td>\n",
       "    </tr>\n",
       "  </tbody>\n",
       "</table>\n",
       "</div>"
      ]
     },
     "execution_count": 270,
     "metadata": {},
     "output_type": "execute_result"
    }
   ],
   "execution_count": 270
  },
  {
   "metadata": {
    "ExecuteTime": {
     "end_time": "2025-02-25T14:33:37.915241Z",
     "start_time": "2025-02-25T14:33:37.643642Z"
    }
   },
   "cell_type": "code",
   "source": [
    "# Exporting a new dataset\n",
    "data.to_csv('data/new_product_info1.csv', index=False)"
   ],
   "id": "75811b0c6861cf2a",
   "outputs": [],
   "execution_count": 271
  }
 ],
 "metadata": {
  "kernelspec": {
   "display_name": "Python 3",
   "language": "python",
   "name": "python3"
  },
  "language_info": {
   "codemirror_mode": {
    "name": "ipython",
    "version": 2
   },
   "file_extension": ".py",
   "mimetype": "text/x-python",
   "name": "python",
   "nbconvert_exporter": "python",
   "pygments_lexer": "ipython2",
   "version": "2.7.6"
  }
 },
 "nbformat": 4,
 "nbformat_minor": 5
}
