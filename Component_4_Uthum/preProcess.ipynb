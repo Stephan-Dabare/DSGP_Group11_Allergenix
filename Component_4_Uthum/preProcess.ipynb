{
 "cells": [
  {
   "cell_type": "code",
   "id": "initial_id",
   "metadata": {
    "collapsed": true,
    "ExecuteTime": {
     "end_time": "2024-12-26T10:51:57.445049Z",
     "start_time": "2024-12-26T10:51:57.290898Z"
    }
   },
   "source": [
    "import pandas as pd\n",
    "\n",
    "# Loading the dataset\n",
    "data = pd.read_csv('data/product_info.csv')"
   ],
   "outputs": [],
   "execution_count": 11
  },
  {
   "metadata": {
    "ExecuteTime": {
     "end_time": "2024-12-26T10:52:00.587003Z",
     "start_time": "2024-12-26T10:52:00.576040Z"
    }
   },
   "cell_type": "code",
   "source": "data.columns",
   "id": "730449a196bd2b29",
   "outputs": [
    {
     "data": {
      "text/plain": [
       "Index(['product_id', 'product_name', 'brand_id', 'brand_name', 'loves_count',\n",
       "       'rating', 'reviews', 'size', 'variation_type', 'variation_value',\n",
       "       'variation_desc', 'ingredients', 'price_usd', 'value_price_usd',\n",
       "       'sale_price_usd', 'limited_edition', 'new', 'online_only',\n",
       "       'out_of_stock', 'sephora_exclusive', 'highlights', 'primary_category',\n",
       "       'secondary_category', 'tertiary_category', 'child_count',\n",
       "       'child_max_price', 'child_min_price'],\n",
       "      dtype='object')"
      ]
     },
     "execution_count": 12,
     "metadata": {},
     "output_type": "execute_result"
    }
   ],
   "execution_count": 12
  },
  {
   "metadata": {
    "ExecuteTime": {
     "end_time": "2024-12-26T11:01:02.040614Z",
     "start_time": "2024-12-26T11:01:02.016678Z"
    }
   },
   "cell_type": "code",
   "source": [
    "# The only required columns\n",
    "data = data[['product_id', 'brand_name', 'product_name', 'ingredients', 'primary_category',\n",
    "       'secondary_category', 'tertiary_category']]\n",
    "\n",
    "# Checking for missing values\n",
    "data.isnull().sum()\n"
   ],
   "id": "7767fa98a2503c8c",
   "outputs": [
    {
     "data": {
      "text/plain": [
       "product_id              0\n",
       "brand_name              0\n",
       "product_name            0\n",
       "ingredients           945\n",
       "primary_category        0\n",
       "secondary_category      8\n",
       "tertiary_category     990\n",
       "dtype: int64"
      ]
     },
     "execution_count": 13,
     "metadata": {},
     "output_type": "execute_result"
    }
   ],
   "execution_count": 13
  },
  {
   "metadata": {
    "ExecuteTime": {
     "end_time": "2024-12-26T11:08:21.612555Z",
     "start_time": "2024-12-26T11:08:21.605488Z"
    }
   },
   "cell_type": "code",
   "source": [
    "# Dropping null values\n",
    "data.dropna(subset=['ingredients'], inplace=True)"
   ],
   "id": "6feb08c5fec0aa09",
   "outputs": [],
   "execution_count": 19
  },
  {
   "metadata": {
    "ExecuteTime": {
     "end_time": "2024-12-26T11:08:54.500884Z",
     "start_time": "2024-12-26T11:08:54.469932Z"
    }
   },
   "cell_type": "code",
   "source": [
    "# Counting duplicates\n",
    "duplicate_count = data.duplicated(keep=False).sum()\n",
    "print(f\"Number of duplicate rows: {duplicate_count}\")"
   ],
   "id": "de58f25036ff4fee",
   "outputs": [
    {
     "name": "stdout",
     "output_type": "stream",
     "text": [
      "Number of duplicate rows: 0\n"
     ]
    }
   ],
   "execution_count": 20
  },
  {
   "metadata": {
    "ExecuteTime": {
     "end_time": "2024-12-26T11:02:23.949024Z",
     "start_time": "2024-12-26T11:02:23.933024Z"
    }
   },
   "cell_type": "code",
   "source": "data['primary_category'].value_counts()",
   "id": "856dbb00b768f0bb",
   "outputs": [
    {
     "data": {
      "text/plain": [
       "primary_category\n",
       "Skincare           2286\n",
       "Makeup             2033\n",
       "Hair               1274\n",
       "Fragrance          1255\n",
       "Bath & Body         374\n",
       "Mini Size           266\n",
       "Men                  59\n",
       "Tools & Brushes       2\n",
       "Name: count, dtype: int64"
      ]
     },
     "execution_count": 15,
     "metadata": {},
     "output_type": "execute_result"
    }
   ],
   "execution_count": 15
  },
  {
   "metadata": {
    "ExecuteTime": {
     "end_time": "2024-12-26T11:18:00.377939Z",
     "start_time": "2024-12-26T11:18:00.366932Z"
    }
   },
   "cell_type": "code",
   "source": [
    "# Choosing 4 main primary categories and excluding the others\n",
    "data = data[data['primary_category'].isin(['Skincare', 'Makeup', 'Hair', 'Fragrance'])]"
   ],
   "id": "67467471085f23dd",
   "outputs": [],
   "execution_count": 21
  },
  {
   "metadata": {
    "ExecuteTime": {
     "end_time": "2024-12-26T11:28:09.359364Z",
     "start_time": "2024-12-26T11:28:09.204133Z"
    }
   },
   "cell_type": "code",
   "source": [
    "# Exporting a new dataset\n",
    "data.to_csv('data/new_product_info.csv', index=False)"
   ],
   "id": "55d19ab6a1e3d9e6",
   "outputs": [],
   "execution_count": 24
  },
  {
   "metadata": {},
   "cell_type": "code",
   "outputs": [],
   "execution_count": null,
   "source": "",
   "id": "3ac58a21b15728ad"
  }
 ],
 "metadata": {
  "kernelspec": {
   "display_name": "Python 3",
   "language": "python",
   "name": "python3"
  },
  "language_info": {
   "codemirror_mode": {
    "name": "ipython",
    "version": 2
   },
   "file_extension": ".py",
   "mimetype": "text/x-python",
   "name": "python",
   "nbconvert_exporter": "python",
   "pygments_lexer": "ipython2",
   "version": "2.7.6"
  }
 },
 "nbformat": 4,
 "nbformat_minor": 5
}
