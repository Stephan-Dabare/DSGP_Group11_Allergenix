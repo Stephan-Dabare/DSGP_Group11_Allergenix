{
 "cells": [
  {
   "metadata": {
    "ExecuteTime": {
     "end_time": "2024-12-20T07:21:13.336155Z",
     "start_time": "2024-12-20T07:21:13.324923Z"
    }
   },
   "cell_type": "code",
   "source": [
    "import os\n",
    "import cv2\n",
    "import pytesseract\n",
    "import pandas as pd\n",
    "\n",
    "\n",
    "# Set Tesseract Path (adjust this path based on your system)\n",
    "pytesseract.pytesseract.tesseract_cmd = r\"C:\\Program Files\\Tesseract-OCR\\tesseract.exe\"\n"
   ],
   "id": "55a1f76be9763c51",
   "outputs": [],
   "execution_count": 7
  },
  {
   "metadata": {
    "ExecuteTime": {
     "end_time": "2024-12-20T07:21:38.596388Z",
     "start_time": "2024-12-20T07:21:38.580376Z"
    }
   },
   "cell_type": "code",
   "source": [
    "# Define your dataset folder\n",
    "dataset_folder = \"C:\\\\Users\\\\LENOVO\\\\Desktop\\\\only labels\"\n",
    "\n",
    "# Load image file paths\n",
    "image_files = [os.path.join(dataset_folder, f) for f in os.listdir(dataset_folder) if f.endswith(('.jpg', '.png', '.jpeg'))]\n",
    "\n",
    "# Create labels (all images are cosmetic-related = 1)\n",
    "labels = [1] * len(image_files)\n",
    "\n",
    "# Store image paths and labels in a DataFrame\n",
    "data = pd.DataFrame({\"image_path\": image_files, \"label\": labels})\n",
    "\n",
    "print(f\"Number of images found: {len(image_files)}\")\n",
    "\n"
   ],
   "id": "d08340c22203bae2",
   "outputs": [
    {
     "name": "stdout",
     "output_type": "stream",
     "text": [
      "Number of images found: 377\n"
     ]
    }
   ],
   "execution_count": 8
  },
  {
   "metadata": {
    "ExecuteTime": {
     "end_time": "2024-12-20T07:21:45.361906Z",
     "start_time": "2024-12-20T07:21:45.348101Z"
    }
   },
   "cell_type": "code",
   "source": [
    "def preprocess_image(image_path):\n",
    "    # Read image in grayscale\n",
    "    img = cv2.imread(image_path, cv2.IMREAD_GRAYSCALE)\n",
    "    \n",
    "    # Resize image for better OCR compatibility\n",
    "    img = cv2.resize(img, (800, 800))\n",
    "    \n",
    "    # Apply Gaussian Blur\n",
    "    img = cv2.GaussianBlur(img, (5, 5), 0)\n",
    "    \n",
    "    # Apply Otsu's Thresholding\n",
    "    img = cv2.threshold(img, 0, 255, cv2.THRESH_BINARY + cv2.THRESH_OTSU)[1]\n",
    "    \n",
    "    return img\n"
   ],
   "id": "c3aaf29c4c9d5a08",
   "outputs": [],
   "execution_count": 9
  },
  {
   "metadata": {
    "ExecuteTime": {
     "end_time": "2024-12-20T07:24:44.054922Z",
     "start_time": "2024-12-20T07:21:53.599745Z"
    }
   },
   "cell_type": "code",
   "source": [
    "def extract_text_from_image(image_path):\n",
    "    # Preprocess the image\n",
    "    img = preprocess_image(image_path)\n",
    "    \n",
    "    # Extract text using Tesseract OCR\n",
    "    extracted_text = pytesseract.image_to_string(img, lang='eng')\n",
    "    \n",
    "    return extracted_text\n",
    "\n",
    "# Apply OCR to extract text from all images\n",
    "data['extracted_text'] = data['image_path'].apply(extract_text_from_image)\n",
    "\n",
    "# Print the first few rows to verify\n",
    "print(data.head())\n",
    "\n",
    "# Remove rows with empty text\n",
    "data = data[data['extracted_text'].str.strip() != \"\"]\n",
    "if data.empty:\n",
    "    raise ValueError(\"No valid text was extracted. Check your OCR or image quality.\")\n"
   ],
   "id": "54691f14678ae671",
   "outputs": [
    {
     "name": "stdout",
     "output_type": "stream",
     "text": [
      "                                          image_path  label  \\\n",
      "0  C:\\Users\\LENOVO\\Desktop\\only labels\\20241103_1...      1   \n",
      "1  C:\\Users\\LENOVO\\Desktop\\only labels\\20241103_1...      1   \n",
      "2  C:\\Users\\LENOVO\\Desktop\\only labels\\20241103_1...      1   \n",
      "3  C:\\Users\\LENOVO\\Desktop\\only labels\\202411203_...      1   \n",
      "4  C:\\Users\\LENOVO\\Desktop\\only labels\\202421103_...      1   \n",
      "\n",
      "                                      extracted_text  \n",
      "0  Ingredients\\nAya Papaya (Caricg Papaya) Extrac...  \n",
      "1  Ingredients\\nAqua, Bee Honey (Apis mellifera) ...  \n",
      "2  NGHEDIENTS: NATER (AQUA) GLYCERIN, STEARIC ACH...  \n",
      "3  Ingredients\\n\\n% Srabery (FragariaL,) Extract ...  \n",
      "4  nd\\n\\nNRDENTS. WATER (AQUA, STEARIC ACID, CLYC...  \n"
     ]
    }
   ],
   "execution_count": 10
  },
  {
   "metadata": {
    "ExecuteTime": {
     "end_time": "2024-12-20T07:28:59.307201Z",
     "start_time": "2024-12-20T07:28:59.298273Z"
    }
   },
   "cell_type": "code",
   "source": "data = data.drop(columns=[\"label\", \"image_path\"], errors=\"ignore\")\n",
   "id": "dc2e51fd98378121",
   "outputs": [],
   "execution_count": 20
  },
  {
   "metadata": {
    "ExecuteTime": {
     "end_time": "2024-12-20T08:24:04.405998Z",
     "start_time": "2024-12-20T08:24:04.397937Z"
    }
   },
   "cell_type": "code",
   "source": "print(data)",
   "id": "a4ada53237421c",
   "outputs": [
    {
     "name": "stdout",
     "output_type": "stream",
     "text": [
      "                                        extracted_text  \\\n",
      "0    Ingredients\\nAya Papaya (Caricg Papaya) Extrac...   \n",
      "1    Ingredients\\nAqua, Bee Honey (Apis mellifera) ...   \n",
      "2    NGHEDIENTS: NATER (AQUA) GLYCERIN, STEARIC ACH...   \n",
      "3    Ingredients\\n\\n% Srabery (FragariaL,) Extract ...   \n",
      "4    nd\\n\\nNRDENTS. WATER (AQUA, STEARIC ACID, CLYC...   \n",
      "..                                                 ...   \n",
      "370  inh hngredionts Aqua, Hibiscus (Hibiscus 0 oe\\...   \n",
      "371                                            “yt\\n\\n   \n",
      "372             EDITS\\n\\nMeta peta Cos rc,\\nPons tus\\n   \n",
      "373  Wp yin ant Si ae\\nHi aru Patt, Sin Ce\\nef Ge C...   \n",
      "374  Se lot\"\\n= Na hn ayy\\n\\neit?\\nhaat (lt Th Bd n...   \n",
      "\n",
      "                                          cleaned_text  \n",
      "0    ingredients aya papaya caricg papaya extract s...  \n",
      "1    ingredients aqua, bee honey apis mellifera ext...  \n",
      "2    nghedients nater aqua glycerin, stearic ach mr...  \n",
      "3    ingredients  srabery fragarial, extract soo eh...  \n",
      "4    nd nrdents water aqua, stearic acid, clycern m...  \n",
      "..                                                 ...  \n",
      "370  inh hngredionts aqua, hibiscus hibiscus 0 oe  ...  \n",
      "371                                                yt   \n",
      "372                  edits meta peta cos rc, pons tus   \n",
      "373  wp yin ant si ae hi aru patt, sin ce ef ge cae...  \n",
      "374  se lot  na hn ayy eit haat lt th bd ne es ne i...  \n",
      "\n",
      "[302 rows x 2 columns]\n"
     ]
    }
   ],
   "execution_count": 31
  },
  {
   "metadata": {
    "ExecuteTime": {
     "end_time": "2024-12-20T08:27:49.034373Z",
     "start_time": "2024-12-20T08:27:47.214445Z"
    }
   },
   "cell_type": "code",
   "source": [
    "\n",
    "import re\n",
    "\n",
    "\n",
    "\n",
    "# Preprocess text (clean and tokenize)\n",
    "def preprocess_text(text):\n",
    "    text = re.sub(r'[^a-zA-Z0-9\\s]', '', text).lower()  # Remove punctuation and lowercase\n",
    "    return set(text.split())\n",
    "\n",
    "data['cleaned_tokens'] = data['cleaned_text'].apply(preprocess_text)\n",
    "\n",
    "# Function to calculate similarity\n",
    "def calculate_similarity(input_tokens, dataset_tokens):\n",
    "    if not input_tokens:  # Handle empty input tokens\n",
    "        return 0  # Return zero similarity if input tokens are empty\n",
    "    matches = [len(input_tokens.intersection(tokens)) for tokens in dataset_tokens]\n",
    "    return max(matches) / len(input_tokens)\n",
    "\n",
    "# Input image preprocessing\n",
    "def extract_text_from_image(image_path):\n",
    "    # Use Tesseract OCR to extract text\n",
    "    import pytesseract\n",
    "    text = pytesseract.image_to_string(image_path)\n",
    "    print(\"OCR Output:\", text)  # Debug: Check OCR output\n",
    "    return preprocess_text(text)\n",
    "\n",
    "# Determine if input is cosmetic\n",
    "def is_cosmetic(image_path, data):\n",
    "    input_tokens = extract_text_from_image(image_path)\n",
    "    if not input_tokens:  # Handle case where no tokens are extracted\n",
    "        print(\"No valid tokens found in the image text.\")  # Debug message\n",
    "        return False  # Default to non-cosmetic\n",
    "    similarity = calculate_similarity(input_tokens, data['cleaned_tokens'])\n",
    "    return similarity > 0.5  # Adjust the threshold as needed\n",
    "\n",
    "# Test the function\n",
    "image_path = \"C:\\\\Users\\\\LENOVO\\\\Desktop\\\\only labels\\\\20241103_12746228.png\"\n",
    "result = is_cosmetic(image_path, data)\n",
    "print(\"Cosmetic\" if result else \"Other\")\n"
   ],
   "id": "91ac463e38cf3bb6",
   "outputs": [
    {
     "name": "stdout",
     "output_type": "stream",
     "text": [
      "OCR Output: Ingredients\n",
      "Aqua, Papaya (Carica Papaya) Extract, Sodium\n",
      "Laureth Sulphate, Vitamin E , Coco Betaine,\n",
      "Sodium Cocoyl Isethionate, Sodium Benzoate\n",
      "EDTA, Frgarnce\n",
      "\n",
      "Cosmetic\n"
     ]
    }
   ],
   "execution_count": 37
  }
 ],
 "metadata": {
  "kernelspec": {
   "display_name": "Python 3",
   "language": "python",
   "name": "python3"
  },
  "language_info": {
   "codemirror_mode": {
    "name": "ipython",
    "version": 2
   },
   "file_extension": ".py",
   "mimetype": "text/x-python",
   "name": "python",
   "nbconvert_exporter": "python",
   "pygments_lexer": "ipython2",
   "version": "2.7.6"
  }
 },
 "nbformat": 4,
 "nbformat_minor": 5
}
