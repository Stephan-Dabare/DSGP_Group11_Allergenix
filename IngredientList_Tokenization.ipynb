{
 "cells": [
  {
   "cell_type": "code",
   "execution_count": null,
   "id": "initial_id",
   "metadata": {
    "collapsed": true
   },
   "outputs": [],
   "source": [
    "import spacy\n",
    "\n",
    "# Load the SpaCy model (ensure you have the model installed)\n",
    "nlp = spacy.load(\"en_core_web_sm\")\n",
    "\n",
    "# Sample cosmetic ingredient text\n",
    "text = \"Water, Glycerin, Sodium Hyaluronate, Citric Acid, Fragrance.\"\n",
    "\n",
    "# Tokenize text using SpaCy\n",
    "doc = nlp(text)\n",
    "\n",
    "# Extract tokens (words) from the doc and store them in a list\n",
    "tokens = [token.text for token in doc]\n",
    "\n",
    "# Filter out punctuation (optional, if you only want words)\n",
    "filtered_tokens = [token for token in tokens if token.isalnum()]\n",
    "\n",
    "# Print results\n",
    "print(\"SpaCy Tokens:\", tokens)\n",
    "print(\"Filtered Tokens:\", filtered_tokens)\n"
   ]
  }
 ],
 "metadata": {
  "kernelspec": {
   "display_name": "Python 3",
   "language": "python",
   "name": "python3"
  },
  "language_info": {
   "codemirror_mode": {
    "name": "ipython",
    "version": 2
   },
   "file_extension": ".py",
   "mimetype": "text/x-python",
   "name": "python",
   "nbconvert_exporter": "python",
   "pygments_lexer": "ipython2",
   "version": "2.7.6"
  }
 },
 "nbformat": 4,
 "nbformat_minor": 5
}
